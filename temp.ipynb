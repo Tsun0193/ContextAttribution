{
 "cells": [
  {
   "cell_type": "code",
   "execution_count": 2,
   "metadata": {},
   "outputs": [],
   "source": [
    "import json"
   ]
  },
  {
   "cell_type": "code",
   "execution_count": 3,
   "metadata": {},
   "outputs": [],
   "source": [
    "document = 'hotpotqa_dev.jsonl'\n",
    "data = []\n",
    "\n",
    "with open(document, 'r') as f:\n",
    "    for line in f:\n",
    "        data.append(json.loads(line))"
   ]
  },
  {
   "cell_type": "code",
   "execution_count": 4,
   "metadata": {},
   "outputs": [
    {
     "data": {
      "text/plain": [
       "{'id': '5a8c7595554299585d9e36b6',\n",
       " 'question': 'What government position was held by the woman who portrayed Corliss Archer in the film Kiss and Tell?',\n",
       " 'answer': 'Chief of Protocol',\n",
       " 'type': 'bridge',\n",
       " 'level': 'hard',\n",
       " 'supporting_facts': {'title': ['Kiss and Tell (1945 film)',\n",
       "   'Shirley Temple',\n",
       "   'Shirley Temple'],\n",
       "  'sent_id': [0, 0, 1]},\n",
       " 'context': {'title': ['A Kiss for Corliss',\n",
       "   'Lord High Treasurer',\n",
       "   'Meet Corliss Archer (TV series)',\n",
       "   'Village accountant',\n",
       "   'Joseph Kalite',\n",
       "   'Charles Craft',\n",
       "   'Meet Corliss Archer',\n",
       "   'Janet Waldo',\n",
       "   'Kiss and Tell (1945 film)',\n",
       "   'Secretary of State for Constitutional Affairs'],\n",
       "  'sentences': [['A Kiss for Corliss is a 1949 American comedy film directed by Richard Wallace and written by Howard Dimsdale.',\n",
       "    ' It stars Shirley Temple in her final starring role as well as her final film appearance.',\n",
       "    ' It is a sequel to the 1945 film \"Kiss and Tell\".',\n",
       "    ' \"A Kiss for Corliss\" was retitled \"Almost a Bride\" before release and this title appears in the title sequence.',\n",
       "    ' The film was released on November 25, 1949, by United Artists.'],\n",
       "   ['The post of Lord High Treasurer or Lord Treasurer was an English government position and has been a British government position since the Acts of Union of 1707.',\n",
       "    ' A holder of the post would be the third-highest-ranked Great Officer of State, below the Lord High Steward and the Lord High Chancellor.'],\n",
       "   ['Meet Corliss Archer is an American television sitcom that aired on CBS (July 13, 1951 - August 10, 1951) and in syndication via the Ziv Company from April to December 1954.',\n",
       "    ' The program was an adaptation of the radio series of the same name, which was based on a series of short stories by F. Hugh Herbert.'],\n",
       "   ['The Village Accountant (variously known as \"Patwari\", \"Talati\", \"Patel\", \"Karnam\", \"Adhikari\", \"Shanbogaru\",\"Patnaik\" etc.) is an administrative government position found in rural parts of the Indian sub-continent.',\n",
       "    ' The office and the officeholder are called the \"patwari\" in Telangana, Bengal, North India and in Pakistan while in Sindh it is called \"tapedar\".',\n",
       "    ' The position is known as the \"karnam\" in Andhra Pradesh, \"patnaik\" in Orissa or \"adhikari\" in Tamil Nadu, while it is commonly known as the \"talati\" in Karnataka, Gujarat and Maharashtra.',\n",
       "    ' The position was known as the \"kulkarni\" in Northern Karnataka and Maharashtra.',\n",
       "    ' The position was known as the \"shanbogaru\" in South Karnataka.'],\n",
       "   ['Joseph Kalite (died 24 January 2014) was a Central African politician.',\n",
       "    ' As a government minister he either held the housing or health portfolio.',\n",
       "    ' Kalite, a Muslim, was reported to be killed by anti-balaka outside the Central Mosque in the capital Bangui during the Central African Republic conflict.',\n",
       "    ' He was killed with machetes on the day in Bangui after interim president Catherine Samba-Panza took power.',\n",
       "    ' At the time of the attack Kalite held no government position, nor did he under the Séléka rule.',\n",
       "    ' He was reported to have supported the rule of Séléka leader Michel Djotodia.'],\n",
       "   ['Charles Craft (May 9, 1902 – September 19, 1968) was an English-born American film and television editor.',\n",
       "    ' Born in the county of Hampshire in England on May 9, 1902, Craft would enter the film industry in Hollywood in 1927.',\n",
       "    ' The first film he edited was the Universal Pictures silent film, \"Painting the Town\".',\n",
       "    ' Over the next 25 years, Craft would edit 90 feature-length films.',\n",
       "    ' In the early 1950s he would switch his focus to the small screen, his first show being \"Racket Squad\", from 1951–53, for which he was the main editor, editing 93 of the 98 episodes.',\n",
       "    ' He would work on several other series during the 1950s, including \"Meet Corliss Archer\" (1954), \"Science Fiction Theatre\" (1955–56), and \"Highway Patrol\" (1955–57).',\n",
       "    ' In the late 1950s and early 1960s he was one of the main editors on \"Sea Hunt\", starring Lloyd Bridges, editing over half of the episodes.',\n",
       "    ' His final film work would be editing \"Flipper\\'s New Adventure\" (1964, the sequel to 1963\\'s \"Flipper\".',\n",
       "    ' When the film was made into a television series, Craft would begin the editing duties on that show, editing the first 28 episodes before he retired in 1966.',\n",
       "    ' Craft died on September 19, 1968 in Los Angeles, California.'],\n",
       "   [\"Meet Corliss Archer, a program from radio's Golden Age, ran from January 7, 1943 to September 30, 1956.\",\n",
       "    ' Although it was CBS\\'s answer to NBC\\'s popular \"A Date with Judy\", it was also broadcast by NBC in 1948 as a summer replacement for \"The Bob Hope Show\".',\n",
       "    ' From October 3, 1952 to June 26, 1953, it aired on ABC, finally returning to CBS.',\n",
       "    \" Despite the program's long run, fewer than 24 episodes are known to exist.\"],\n",
       "   ['Janet Marie Waldo (February 4, 1920 – June 12, 2016) was an American radio and voice actress.',\n",
       "    ' She is best known in animation for voicing Judy Jetson, Nancy in \"Shazzan\", Penelope Pitstop, and Josie in \"Josie and the Pussycats\", and on radio as the title character in \"Meet Corliss Archer\".'],\n",
       "   ['Kiss and Tell is a 1945 American comedy film starring then 17-year-old Shirley Temple as Corliss Archer.',\n",
       "    ' In the film, two teenage girls cause their respective parents much concern when they start to become interested in boys.',\n",
       "    \" The parents' bickering about which girl is the worse influence causes more problems than it solves.\"],\n",
       "   ['The office of Secretary of State for Constitutional Affairs was a British Government position, created in 2003.',\n",
       "    \" Certain functions of the Lord Chancellor which related to the Lord Chancellor's Department were transferred to the Secretary of State.\",\n",
       "    ' At a later date further functions were also transferred to the Secretary of State for Constitutional Affairs from the First Secretary of State, a position within the government held by the Deputy Prime Minister.']]}}"
      ]
     },
     "execution_count": 4,
     "metadata": {},
     "output_type": "execute_result"
    }
   ],
   "source": [
    "data[1]"
   ]
  },
  {
   "cell_type": "code",
   "execution_count": null,
   "metadata": {},
   "outputs": [],
   "source": []
  }
 ],
 "metadata": {
  "kernelspec": {
   "display_name": "iailab",
   "language": "python",
   "name": "python3"
  },
  "language_info": {
   "codemirror_mode": {
    "name": "ipython",
    "version": 3
   },
   "file_extension": ".py",
   "mimetype": "text/x-python",
   "name": "python",
   "nbconvert_exporter": "python",
   "pygments_lexer": "ipython3",
   "version": "3.11.11"
  }
 },
 "nbformat": 4,
 "nbformat_minor": 2
}
