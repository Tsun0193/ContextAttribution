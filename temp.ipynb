{
 "cells": [
  {
   "cell_type": "code",
   "execution_count": 4,
   "metadata": {},
   "outputs": [
    {
     "data": {
      "text/plain": [
       "k=1    1.285550\n",
       "k=3    3.161550\n",
       "k=5    4.562216\n",
       "dtype: float64"
      ]
     },
     "execution_count": 4,
     "metadata": {},
     "output_type": "execute_result"
    }
   ],
   "source": [
    "import pandas as pd\n",
    "num_abl = 256\n",
    "df = pd.read_csv(f'results/topk_drop/tydiqa/hybrid_meta-llama-Llama-3.2-1B-Instruct_{num_abl}abls_128samples.csv')\n",
    "non_zero_rows = df[~((df['k=1'] == 0.0) & (df['k=3'] == 0.0) & (df['k=5'] == 0.0))]\n",
    "averages = non_zero_rows[['k=1', 'k=3', 'k=5']].mean()\n",
    "averages"
   ]
  },
  {
   "cell_type": "code",
   "execution_count": 11,
   "metadata": {},
   "outputs": [
    {
     "data": {
      "text/plain": [
       "id     -6.038659e+17\n",
       "corr    9.078984e-01\n",
       "dtype: float64"
      ]
     },
     "execution_count": 11,
     "metadata": {},
     "output_type": "execute_result"
    }
   ],
   "source": [
    "import pandas as pd\n",
    "num_abl = 256\n",
    "df = pd.read_csv(f'results/lds/tydiqa/hybrid_meta-llama-Llama-3.2-1B-Instruct_{num_abl}abls_128samples.csv')\n",
    "df.mean()"
   ]
  },
  {
   "cell_type": "code",
   "execution_count": 12,
   "metadata": {},
   "outputs": [
    {
     "data": {
      "text/plain": [
       "0.9078984"
      ]
     },
     "execution_count": 12,
     "metadata": {},
     "output_type": "execute_result"
    }
   ],
   "source": [
    "9.078984e-01"
   ]
  },
  {
   "cell_type": "code",
   "execution_count": null,
   "metadata": {},
   "outputs": [],
   "source": []
  }
 ],
 "metadata": {
  "kernelspec": {
   "display_name": "dd-chat",
   "language": "python",
   "name": "python3"
  },
  "language_info": {
   "codemirror_mode": {
    "name": "ipython",
    "version": 3
   },
   "file_extension": ".py",
   "mimetype": "text/x-python",
   "name": "python",
   "nbconvert_exporter": "python",
   "pygments_lexer": "ipython3",
   "version": "3.9.21"
  }
 },
 "nbformat": 4,
 "nbformat_minor": 2
}
