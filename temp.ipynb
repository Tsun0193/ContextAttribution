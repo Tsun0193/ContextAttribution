{
 "cells": [
  {
   "cell_type": "code",
   "execution_count": 3,
   "metadata": {},
   "outputs": [],
   "source": [
    "from context_cite.context_partitioner import HybridPartitioner"
   ]
  },
  {
   "cell_type": "code",
   "execution_count": null,
   "metadata": {},
   "outputs": [],
   "source": [
    "sample_context = \"\"\"\n",
    "# Research Paper Title\n",
    "\n",
    "This is the first paragraph. It serves as an introduction to the research paper.\n",
    "It explains the motivation and background.\n",
    "\n",
    "This is the second paragraph. It details the methodology used in the experiments.\n",
    "It provides a step-by-step description of the process.\n",
    "\n",
    "This is the third paragraph. The experiments showed promising outcomes with clear improvements.\n",
    "The results confirm the hypothesis and show significant progress.\n",
    "\n",
    "This is an extra paragraph that contains some background information but is less relevant to the experiments.\n",
    "\n",
    "Another paragraph describes the future work and potential applications.\n",
    "\n",
    "The experiments showed promising outcomes with clear methodology and important results.\n",
    "\"\"\""
   ]
  },
  {
   "cell_type": "code",
   "execution_count": 5,
   "metadata": {},
   "outputs": [],
   "source": [
    "sample_response = \"The experiments showed promising outcomes with clear methodology and important results.\"\n"
   ]
  },
  {
   "cell_type": "code",
   "execution_count": 6,
   "metadata": {},
   "outputs": [],
   "source": [
    "hybrid_partitioner = HybridPartitioner(\n",
    "    context=sample_context,\n",
    "    response=sample_response\n",
    ")"
   ]
  },
  {
   "cell_type": "code",
   "execution_count": 7,
   "metadata": {},
   "outputs": [],
   "source": [
    "hybrid_partitioner.split_context()"
   ]
  },
  {
   "cell_type": "code",
   "execution_count": 8,
   "metadata": {},
   "outputs": [
    {
     "name": "stdout",
     "output_type": "stream",
     "text": [
      "Number of sources: 11\n",
      "Final Sources:\n",
      "Source 1: Research Paper Title This is the first paragraph.\n",
      "\n",
      "Source 2: It serves as an introduction to the research paper.\n",
      "\n",
      "Source 3: It explains the motivation and background.\n",
      "\n",
      "Source 4: This is the second paragraph.\n",
      "\n",
      "Source 5: It details the methodology used in the experiments.\n",
      "\n",
      "Source 6: It provides a step-by-step description of the process.\n",
      "\n",
      "Source 7: This is the third paragraph.\n",
      "\n",
      "Source 8: The experiments showed promising outcomes with clear improvements.\n",
      "\n",
      "Source 9: The results confirm the hypothesis and show significant progress.\n",
      "\n",
      "Source 10: This is an extra paragraph that contains some background information but is less relevant to the experiments.\n",
      "\n",
      "Source 11: Another paragraph describes the future work and potential applications.\n",
      "\n"
     ]
    }
   ],
   "source": [
    "print(\"Number of sources:\", hybrid_partitioner.num_sources)\n",
    "print(\"Final Sources:\")\n",
    "for i, source in enumerate(hybrid_partitioner.parts):\n",
    "    print(f\"Source {i+1}: {source}\\n\")"
   ]
  },
  {
   "cell_type": "code",
   "execution_count": null,
   "metadata": {},
   "outputs": [],
   "source": []
  }
 ],
 "metadata": {
  "kernelspec": {
   "display_name": "base",
   "language": "python",
   "name": "python3"
  },
  "language_info": {
   "codemirror_mode": {
    "name": "ipython",
    "version": 3
   },
   "file_extension": ".py",
   "mimetype": "text/x-python",
   "name": "python",
   "nbconvert_exporter": "python",
   "pygments_lexer": "ipython3",
   "version": "3.12.7"
  }
 },
 "nbformat": 4,
 "nbformat_minor": 2
}
