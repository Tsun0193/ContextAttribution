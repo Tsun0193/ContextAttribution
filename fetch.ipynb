{
 "cells": [
  {
   "cell_type": "code",
   "execution_count": 3,
   "metadata": {},
   "outputs": [
    {
     "name": "stdout",
     "output_type": "stream",
     "text": [
      "Saved full Wikipedia page to 'antarctica_full.txt'.\n"
     ]
    }
   ],
   "source": [
    "import requests\n",
    "\n",
    "# Wikipedia API endpoint\n",
    "url = \"https://en.wikipedia.org/w/api.php\"\n",
    "\n",
    "# API parameters\n",
    "params = {\n",
    "    \"action\": \"query\",\n",
    "    \"format\": \"json\",\n",
    "    \"titles\": \"Climate_of_Antarctica\",\n",
    "    \"prop\": \"extracts\",\n",
    "    \"explaintext\": True,  # Get full page text (not just intro)\n",
    "}\n",
    "\n",
    "# Fetch data\n",
    "response = requests.get(url, params=params).json()\n",
    "\n",
    "# Extract text\n",
    "page = next(iter(response[\"query\"][\"pages\"].values()))\n",
    "text = page.get(\"extract\", \"No content found.\")\n",
    "\n",
    "# Save to a text file\n",
    "with open(\"antarctica_climate.txt\", \"w\", encoding=\"utf-8\") as file:\n",
    "    file.write(text)\n",
    "\n",
    "print(\"Saved full Wikipedia page to 'antarctica_full.txt'.\")\n"
   ]
  },
  {
   "cell_type": "code",
   "execution_count": null,
   "metadata": {},
   "outputs": [],
   "source": []
  }
 ],
 "metadata": {
  "kernelspec": {
   "display_name": "iailab",
   "language": "python",
   "name": "python3"
  },
  "language_info": {
   "codemirror_mode": {
    "name": "ipython",
    "version": 3
   },
   "file_extension": ".py",
   "mimetype": "text/x-python",
   "name": "python",
   "nbconvert_exporter": "python",
   "pygments_lexer": "ipython3",
   "version": "3.11.11"
  }
 },
 "nbformat": 4,
 "nbformat_minor": 2
}
