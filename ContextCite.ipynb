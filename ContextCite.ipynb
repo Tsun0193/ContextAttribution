{
 "cells": [
  {
   "cell_type": "code",
   "execution_count": 1,
   "metadata": {
    "executionInfo": {
     "elapsed": 24818,
     "status": "ok",
     "timestamp": 1741432712419,
     "user": {
      "displayName": "Duy Dang",
      "userId": "00912337392869305542"
     },
     "user_tz": -420
    },
    "id": "B9jEYLTzRgwE"
   },
   "outputs": [],
   "source": [
    "import os\n",
    "import nltk\n",
    "import json\n",
    "import nest_asyncio\n",
    "import matplotlib.pyplot as plt\n",
    "import numpy as np\n",
    "import torch\n",
    "import warnings\n",
    "import gc\n",
    "\n",
    "from IPython.display import display\n",
    "from huggingface_hub import login\n",
    "from llama_cloud_services import LlamaParse\n",
    "from dotenv import load_dotenv\n",
    "from context_cite import ContextCiter\n",
    "from context_cite.utils import aggregate_logit_probs\n",
    "from context_cite.context_partitioner import SentencePeriodPartitioner\n",
    "from transformers import AutoTokenizer, AutoModelForCausalLM\n",
    "from scipy.stats import spearmanr\n",
    "from typing import Optional, Dict, Any"
   ]
  },
  {
   "cell_type": "code",
   "execution_count": 2,
   "metadata": {
    "colab": {
     "base_uri": "https://localhost:8080/"
    },
    "executionInfo": {
     "elapsed": 873,
     "status": "ok",
     "timestamp": 1741432713290,
     "user": {
      "displayName": "Duy Dang",
      "userId": "00912337392869305542"
     },
     "user_tz": -420
    },
    "id": "Yw1tIFlwM8hr",
    "outputId": "7bed1ae1-0584-4ad5-f104-7654ac82c2a4"
   },
   "outputs": [],
   "source": [
    "load_dotenv()\n",
    "nest_asyncio.apply()\n",
    "warnings.filterwarnings(\"ignore\")\n",
    "os.environ['TRANSFORMERS_VERBOSITY'] = 'error'\n",
    "os.environ[\"PYTORCH_CUDA_ALLOC_CONF\"] = \"expandable_segments:True\"\n",
    "# login(token=userdata.get(\"HF_TOKEN\"))\n",
    "# nltk.download('punkt_tab')\n",
    "parser = LlamaParse(api_key=os.getenv(\"LLAMA_CLOUD_API_TOKEN\"), result_type=\"markdown\")"
   ]
  },
  {
   "cell_type": "code",
   "execution_count": 3,
   "metadata": {
    "executionInfo": {
     "elapsed": 10,
     "status": "ok",
     "timestamp": 1741432713302,
     "user": {
      "displayName": "Duy Dang",
      "userId": "00912337392869305542"
     },
     "user_tz": -420
    },
    "id": "Mv2wKQHNM8hr"
   },
   "outputs": [],
   "source": [
    "document = 'documents/attention.pdf'\n",
    "MODEL_NAME = \"Llama-3.2-1B-Instruct\"\n",
    "model_name = \"meta-llama/Llama-3.2-1B-Instruct\" # 3.2 1B Instruct for faster inference, 3.1 8B for better performance"
   ]
  },
  {
   "cell_type": "code",
   "execution_count": 4,
   "metadata": {
    "executionInfo": {
     "elapsed": 1,
     "status": "ok",
     "timestamp": 1741432713303,
     "user": {
      "displayName": "Duy Dang",
      "userId": "00912337392869305542"
     },
     "user_tz": -420
    },
    "id": "uaT_m7pwRJ2c"
   },
   "outputs": [],
   "source": [
    "# docs = parser.load_data(document)\n",
    "# data = \"\"\n",
    "# for doc in docs:\n",
    "#     if len(doc.text) >= 32:\n",
    "#         data += doc.text + \" \"\n",
    "# len(data)"
   ]
  },
  {
   "cell_type": "code",
   "execution_count": 5,
   "metadata": {
    "executionInfo": {
     "elapsed": 520,
     "status": "ok",
     "timestamp": 1741432713823,
     "user": {
      "displayName": "Duy Dang",
      "userId": "00912337392869305542"
     },
     "user_tz": -420
    },
    "id": "YZIzlAa3M8hs"
   },
   "outputs": [],
   "source": [
    "# data = []\n",
    "\n",
    "# with open(document, 'r') as f:\n",
    "#     for line in f:\n",
    "#         data.append(json.loads(line))"
   ]
  },
  {
   "cell_type": "code",
   "execution_count": 6,
   "metadata": {
    "colab": {
     "base_uri": "https://localhost:8080/"
    },
    "executionInfo": {
     "elapsed": 13,
     "status": "ok",
     "timestamp": 1741432713838,
     "user": {
      "displayName": "Duy Dang",
      "userId": "00912337392869305542"
     },
     "user_tz": -420
    },
    "id": "Ic_Ttz7cWHHb",
    "outputId": "dd1e54be-029d-40aa-e80b-f7e225bdad5a"
   },
   "outputs": [],
   "source": [
    "# data[0]"
   ]
  },
  {
   "cell_type": "code",
   "execution_count": 7,
   "metadata": {
    "executionInfo": {
     "elapsed": 0,
     "status": "ok",
     "timestamp": 1741432713839,
     "user": {
      "displayName": "Duy Dang",
      "userId": "00912337392869305542"
     },
     "user_tz": -420
    },
    "id": "SfU6LdvPM8hs"
   },
   "outputs": [],
   "source": [
    "# sample_indices = np.random.randint(0, len(data), 10)\n",
    "\n",
    "# samples = [data[i] for i in sample_indices]"
   ]
  },
  {
   "cell_type": "code",
   "execution_count": 4,
   "metadata": {
    "executionInfo": {
     "elapsed": 5,
     "status": "ok",
     "timestamp": 1741432713845,
     "user": {
      "displayName": "Duy Dang",
      "userId": "00912337392869305542"
     },
     "user_tz": -420
    },
    "id": "LUbo1F02M8ht"
   },
   "outputs": [],
   "source": [
    "def plot(cc: ContextCiter, path: str = None):\n",
    "    pred_logits = cc._pred_logit_probs\n",
    "    # pred_logits = aggregate_logit_probs(pred_logits)\n",
    "    actu_logits = cc._actual_logit_probs\n",
    "\n",
    "    preds = pred_logits.flatten()\n",
    "    actus = actu_logits.flatten()\n",
    "    assert len(preds) == len(actus), f\"{len(preds)} != {len(actus)}\"\n",
    "\n",
    "    # Compute Spearman correlation without modifying the actual data\n",
    "    corr, _ = spearmanr(preds, actus)  # ✅ Correct way to compute Spearman correlation\n",
    "\n",
    "    plt.figure(figsize=(8, 8))\n",
    "    plt.scatter(preds, actus, alpha=0.3, label=\"Context ablations\")  # Scatter plot\n",
    "\n",
    "    # Plot y = x reference line\n",
    "    x_line = np.linspace(min(preds.min(), actus.min()), max(preds.max(), actus.max()), len(preds))\n",
    "    plt.plot(x_line, x_line, '--', color='gray', label=\"y = x\")\n",
    "\n",
    "    # Labels and title\n",
    "    plt.xlabel(\"Predicted log-probability\")\n",
    "    plt.ylabel(\"Actual log-probability\")\n",
    "    plt.title(f\"Predicted vs. Actual log-probability\\nSpearman correlation: {corr:.2f}\")\n",
    "    plt.legend()\n",
    "    plt.grid(True)\n",
    "\n",
    "    if path:\n",
    "        plt.savefig(path)\n",
    "    plt.show()"
   ]
  },
  {
   "cell_type": "code",
   "execution_count": 9,
   "metadata": {},
   "outputs": [],
   "source": [
    "def measure_comprehensiveness_sufficiency(\n",
    "    citer,\n",
    "    start_idx: int = 0,\n",
    "    end_idx: Optional[int] = None,\n",
    "    top_k: int = 3\n",
    "):\n",
    "    \"\"\"\n",
    "    Measures how removing or keeping only the top-K attributions affects\n",
    "    the log-probability of the original response. Returns a dict with\n",
    "    baseline, comprehensiveness, and sufficiency scores.\n",
    "\n",
    "    Args:\n",
    "        citer (ContextCiter): Your context attribution object.\n",
    "        start_idx (int): Start character index in the response to attribute.\n",
    "        end_idx (Optional[int]): End character index in the response.\n",
    "        top_k (int): Number of top attributions to consider.\n",
    "\n",
    "    Returns:\n",
    "        Dict[str, float]: A dictionary with:\n",
    "            - \"baseline_logprob\": The log-prob of the original response with all sources.\n",
    "            - \"remove_topk_logprob\": The log-prob with top-K sources removed.\n",
    "            - \"keep_topk_logprob\": The log-prob with only top-K sources kept.\n",
    "            - \"comprehensiveness_drop\": How much the log-prob drops when removing top-K.\n",
    "            - \"sufficiency_drop\": How much the log-prob drops when keeping only top-K.\n",
    "    \"\"\"\n",
    "    attributions = citer.get_attributions(\n",
    "        start_idx=start_idx,\n",
    "        end_idx=end_idx,\n",
    "        as_dataframe=False,\n",
    "        verbose=False\n",
    "    )\n",
    "\n",
    "    sorted_indices = np.argsort(attributions)[::-1]  # descending\n",
    "    topk_indices = sorted_indices[:top_k]\n",
    "\n",
    "    def measure_logprob(mask):\n",
    "        \"\"\"\n",
    "        Build the ablated prompt from 'mask', then measure the total log probability\n",
    "        of the original response tokens. We'll re-use ablation logic from the\n",
    "        existing code (similar to get_masks_and_logit_probs) but for a single mask.\n",
    "        \"\"\"\n",
    "        prompt_ids = citer._get_prompt_ids(mask=mask)\n",
    "        input_ids = prompt_ids + citer._response_ids\n",
    "        input_tensor = citer.model.device.type\n",
    "        input_ids_tensor = torch.tensor([input_ids], device=citer.model.device)\n",
    "        attention_mask = torch.ones_like(input_ids_tensor, device=citer.model.device)\n",
    "\n",
    "        with torch.no_grad():\n",
    "            output = citer.model(input_ids_tensor, attention_mask=attention_mask)\n",
    "            logits = output.logits[:, -(len(citer._response_ids) + 1) : -1]\n",
    "            labels = input_ids_tensor[:, -len(citer._response_ids) :]\n",
    "            token_logit_probs = _compute_logit_probs(logits, labels)\n",
    "            total_logprob = token_logit_probs.sum().item()\n",
    "        return total_logprob\n",
    "\n",
    "    num_sources = citer.num_sources\n",
    "    baseline_mask = np.ones(num_sources, dtype=bool)\n",
    "    remove_topk_mask = np.ones(num_sources, dtype=bool)\n",
    "    remove_topk_mask[topk_indices] = False\n",
    "    keep_topk_mask = np.zeros(num_sources, dtype=bool)\n",
    "    keep_topk_mask[topk_indices] = True\n",
    "\n",
    "    baseline_logprob = measure_logprob(baseline_mask)\n",
    "    remove_topk_logprob = measure_logprob(remove_topk_mask)\n",
    "    keep_topk_logprob = measure_logprob(keep_topk_mask)\n",
    "\n",
    "    comprehensiveness_drop = baseline_logprob - remove_topk_logprob\n",
    "    sufficiency_drop = baseline_logprob - keep_topk_logprob\n",
    "\n",
    "    results = {\n",
    "        \"baseline_logprob\": baseline_logprob,\n",
    "        \"remove_topk_logprob\": remove_topk_logprob,\n",
    "        \"keep_topk_logprob\": keep_topk_logprob,\n",
    "        \"comprehensiveness_drop\": comprehensiveness_drop,\n",
    "        \"sufficiency_drop\": sufficiency_drop,\n",
    "    }\n",
    "    return results"
   ]
  },
  {
   "cell_type": "code",
   "execution_count": 10,
   "metadata": {
    "executionInfo": {
     "elapsed": 10,
     "status": "ok",
     "timestamp": 1741432713855,
     "user": {
      "displayName": "Duy Dang",
      "userId": "00912337392869305542"
     },
     "user_tz": -420
    },
    "id": "40KVf5hWM8hu"
   },
   "outputs": [],
   "source": [
    "def input_handler(path: str) -> str:\n",
    "\tif path.endswith(\".pdf\"):\n",
    "\t\tdocs = parser.load_data(path)\n",
    "\t\tdata = \"\"\n",
    "\t\tfor doc in docs:\n",
    "\t\t\tif len(doc.text) >= 32:\n",
    "\t\t\t\tdata += doc.text + \" \"\n",
    "\t\treturn data\n",
    "\telif path.endswith(\".txt\"):\n",
    "\t\twith open(path, \"r\") as file:\n",
    "\t\t\tdata = file.read()\n",
    "\t\treturn data\n",
    "\telse:\n",
    "\t\traise ValueError(\"Invalid file format\")"
   ]
  },
  {
   "cell_type": "code",
   "execution_count": null,
   "metadata": {},
   "outputs": [
    {
     "name": "stdout",
     "output_type": "stream",
     "text": [
      "Started parsing the file under job_id 460bb03f-c667-4b46-bfde-eb6da8cc2dda\n"
     ]
    }
   ],
   "source": [
    "context = input_handler(document)\n",
    "query = \"How many GPUs did the authors use in this paper?\""
   ]
  },
  {
   "cell_type": "code",
   "execution_count": 12,
   "metadata": {
    "colab": {
     "base_uri": "https://localhost:8080/"
    },
    "executionInfo": {
     "elapsed": 468,
     "status": "ok",
     "timestamp": 1741432714323,
     "user": {
      "displayName": "Duy Dang",
      "userId": "00912337392869305542"
     },
     "user_tz": -420
    },
    "id": "bxz7JdHDM8hu",
    "outputId": "d8b76d5d-0bf5-4b55-d2e8-dc88e93611e6"
   },
   "outputs": [],
   "source": [
    "# del data\n",
    "# gc.collect()"
   ]
  },
  {
   "cell_type": "code",
   "execution_count": 13,
   "metadata": {
    "executionInfo": {
     "elapsed": 1,
     "status": "ok",
     "timestamp": 1741432714325,
     "user": {
      "displayName": "Duy Dang",
      "userId": "00912337392869305542"
     },
     "user_tz": -420
    },
    "id": "ld6chIoVM8hv"
   },
   "outputs": [],
   "source": [
    "# for sample in samples:\n",
    "#     context = sample['metadata']['context'] + sample['metadata']['long_answer']\n",
    "#     query = sample['question']\n",
    "\n",
    "#     cc = ContextCiter.from_pretrained(\n",
    "#         model_name,\n",
    "#         context=context,\n",
    "#         query=query,\n",
    "#         device=\"cuda\",\n",
    "#         solver=\"lasso\",\n",
    "#         num_ablations=256\n",
    "#     )\n",
    "\n",
    "#     cc.get_attributions(as_dataframe=True, top_k=5)\n",
    "#     plot(cc, path=f\"plots/Llama-3.2-1B-Instruct/PubmedQA/polynomial_{sample['sample_id']}.png\")\n",
    "\n",
    "#     torch.cuda.empty_cache()\n",
    "#     del cc"
   ]
  },
  {
   "cell_type": "code",
   "execution_count": 14,
   "metadata": {
    "executionInfo": {
     "elapsed": 0,
     "status": "ok",
     "timestamp": 1741432714326,
     "user": {
      "displayName": "Duy Dang",
      "userId": "00912337392869305542"
     },
     "user_tz": -420
    },
    "id": "BJROzn2_PhR3"
   },
   "outputs": [],
   "source": [
    "# cc.get_attributions(as_dataframe=True, top_k=5)"
   ]
  },
  {
   "cell_type": "code",
   "execution_count": 5,
   "metadata": {},
   "outputs": [],
   "source": [
    "context = \"\"\"\n",
    "Attention Is All You Need\n",
    "\n",
    "Abstract\n",
    "The dominant sequence transduction models are based on complex recurrent or convolutional neural networks that include an encoder and a decoder. The best performing models also connect the encoder and decoder through an attention mechanism. We propose a new simple network architecture, the Transformer, based solely on attention mechanisms, dispensing with recurrence and convolutions entirely. Experiments on two machine translation tasks show these models to be superior in quality while being more parallelizable and requiring significantly less time to train. Our model achieves 28.4 BLEU on the WMT 2014 English-to-German translation task, improving over the existing best results, including ensembles, by over 2 BLEU. On the WMT 2014 English-to-French translation task, our model establishes a new single-model state-of-the-art BLEU score of 41.8 after training for 3.5 days on eight GPUs, a small fraction of the training costs of the best models from the literature. We show that the Transformer generalizes well to other tasks by applying it successfully to English constituency parsing both with large and limited training data.\n",
    "1 Introduction\n",
    "Recurrent neural networks, long short-term memory [13] and gated recurrent [7] neural networks in particular, have been firmly established as state of the art approaches in sequence modeling and transduction problems such as language modeling and machine translation [35, 2, 5]. Numerous efforts have since continued to push the boundaries of recurrent language models and encoder-decoder architectures [38, 24, 15].\n",
    "Recurrent models typically factor computation along the symbol positions of the input and output sequences. Aligning the positions to steps in computation time, they generate a sequence of hidden states ht, as a function of the previous hidden state ht-1 and the input for position t. This inherently sequential nature precludes parallelization within training examples, which becomes critical at longer sequence lengths, as memory constraints limit batching across examples. Recent work has achieved significant improvements in computational efficiency through factorization tricks [21] and conditional computation [32], while also improving model performance in case of the latter. The fundamental constraint of sequential computation, however, remains.\n",
    "Attention mechanisms have become an integral part of compelling sequence modeling and transduction models in various tasks, allowing modeling of dependencies without regard to their distance in the input or output sequences [2, 19]. In all but a few cases [27], however, such attention mechanisms are used in conjunction with a recurrent network.\n",
    "In this work we propose the Transformer, a model architecture eschewing recurrence and instead relying entirely on an attention mechanism to draw global dependencies between input and output. The Transformer allows for significantly more parallelization and can reach a new state of the art in translation quality after being trained for as little as twelve hours on eight P100 GPUs.\n",
    "\"\"\""
   ]
  },
  {
   "cell_type": "code",
   "execution_count": 14,
   "metadata": {
    "executionInfo": {
     "elapsed": 6428,
     "status": "ok",
     "timestamp": 1741434889778,
     "user": {
      "displayName": "Duy Dang",
      "userId": "00912337392869305542"
     },
     "user_tz": -420
    },
    "id": "4rfympXUiUcs"
   },
   "outputs": [],
   "source": [
    "query = \"What type of GPUs did the authors use in this paper?\"\n",
    "cc = ContextCiter.from_pretrained(\n",
    "    model_name,\n",
    "    context=context,\n",
    "    query=query,\n",
    "    device=\"cuda\",\n",
    "    solver=\"lasso\",\n",
    "    num_ablations=128\n",
    ")"
   ]
  },
  {
   "cell_type": "code",
   "execution_count": 15,
   "metadata": {
    "colab": {
     "base_uri": "https://localhost:8080/",
     "height": 328
    },
    "executionInfo": {
     "elapsed": 16,
     "status": "ok",
     "timestamp": 1741435008468,
     "user": {
      "displayName": "Duy Dang",
      "userId": "00912337392869305542"
     },
     "user_tz": -420
    },
    "id": "C5rmK_-ojcvl",
    "outputId": "74c409dd-b073-456b-efda-f62cd2839fba"
   },
   "outputs": [
    {
     "name": "stdout",
     "output_type": "stream",
     "text": [
      "Attributed: The authors used P100 GPUs in their experiments.\n"
     ]
    },
    {
     "data": {
      "text/html": [
       "<style type=\"text/css\">\n",
       "#T_d1e77_row0_col0 {\n",
       "  background-color: rgb(80, 180, 80);\n",
       "}\n",
       "#T_d1e77_row1_col0 {\n",
       "  background-color: rgb(210.05016375231827, 235.73578446527927, 210.05016375231827);\n",
       "}\n",
       "#T_d1e77_row2_col0 {\n",
       "  background-color: rgb(241.32510311558366, 249.1393299066787, 241.32510311558366);\n",
       "}\n",
       "#T_d1e77_row3_col0 {\n",
       "  background-color: rgb(246.20578762965343, 251.23105184128005, 246.20578762965343);\n",
       "}\n",
       "#T_d1e77_row4_col0 {\n",
       "  background-color: rgb(253.54720441048147, 254.37737331877779, 253.54720441048147);\n",
       "}\n",
       "</style>\n",
       "<table id=\"T_d1e77\">\n",
       "  <thead>\n",
       "    <tr>\n",
       "      <th class=\"blank level0\" >&nbsp;</th>\n",
       "      <th id=\"T_d1e77_level0_col0\" class=\"col_heading level0 col0\" >Score</th>\n",
       "      <th id=\"T_d1e77_level0_col1\" class=\"col_heading level0 col1\" >Source</th>\n",
       "    </tr>\n",
       "  </thead>\n",
       "  <tbody>\n",
       "    <tr>\n",
       "      <th id=\"T_d1e77_level0_row0\" class=\"row_heading level0 row0\" >0</th>\n",
       "      <td id=\"T_d1e77_row0_col0\" class=\"data row0 col0\" >11.716</td>\n",
       "      <td id=\"T_d1e77_row0_col1\" class=\"data row0 col1\" >The Transformer allows for significantly more parallelization and can reach a new state of the art in translation quality after being trained for as little as twelve hours on eight P100 GPUs.</td>\n",
       "    </tr>\n",
       "    <tr>\n",
       "      <th id=\"T_d1e77_level0_row1\" class=\"row_heading level0 row1\" >1</th>\n",
       "      <td id=\"T_d1e77_row1_col0\" class=\"data row1 col0\" >3.009</td>\n",
       "      <td id=\"T_d1e77_row1_col1\" class=\"data row1 col1\" >Experiments on two machine translation tasks show these models to be superior in quality while being more parallelizable and requiring significantly less time to train.</td>\n",
       "    </tr>\n",
       "    <tr>\n",
       "      <th id=\"T_d1e77_level0_row2\" class=\"row_heading level0 row2\" >2</th>\n",
       "      <td id=\"T_d1e77_row2_col0\" class=\"data row2 col0\" >0.916</td>\n",
       "      <td id=\"T_d1e77_row2_col1\" class=\"data row2 col1\" >Our model achieves 28.4 BLEU on the WMT 2014 English-to-German translation task, improving over the existing best results, including ensembles, by over 2 BLEU. On the WMT 2014 English-to-French translation task, our model establishes a new single-model state-of-the-art BLEU score of 41.8 after training for 3.5 days on eight GPUs, a small fraction of the training costs of the best models from the literature.</td>\n",
       "    </tr>\n",
       "    <tr>\n",
       "      <th id=\"T_d1e77_level0_row3\" class=\"row_heading level0 row3\" >3</th>\n",
       "      <td id=\"T_d1e77_row3_col0\" class=\"data row3 col0\" >0.589</td>\n",
       "      <td id=\"T_d1e77_row3_col1\" class=\"data row3 col1\" >We show that the Transformer generalizes well to other tasks by applying it successfully to English constituency parsing both with large and limited training data. 1 Introduction Recurrent neural networks, long short-term memory [13] and gated recurrent [7] neural networks in particular, have been firmly established as state of the art approaches in sequence modeling and transduction problems such as language modeling and machine translation [35, 2, 5].</td>\n",
       "    </tr>\n",
       "    <tr>\n",
       "      <th id=\"T_d1e77_level0_row4\" class=\"row_heading level0 row4\" >4</th>\n",
       "      <td id=\"T_d1e77_row4_col0\" class=\"data row4 col0\" >0.097</td>\n",
       "      <td id=\"T_d1e77_row4_col1\" class=\"data row4 col1\" >We propose a new simple network architecture, the Transformer, based solely on attention mechanisms, dispensing with recurrence and convolutions entirely.</td>\n",
       "    </tr>\n",
       "  </tbody>\n",
       "</table>\n"
      ],
      "text/plain": [
       "<pandas.io.formats.style.Styler at 0x7322a633cbb0>"
      ]
     },
     "execution_count": 15,
     "metadata": {},
     "output_type": "execute_result"
    }
   ],
   "source": [
    "cc.get_attributions(as_dataframe=True, top_k=5)"
   ]
  },
  {
   "cell_type": "code",
   "execution_count": 16,
   "metadata": {
    "colab": {
     "base_uri": "https://localhost:8080/",
     "height": 682
    },
    "executionInfo": {
     "elapsed": 336,
     "status": "ok",
     "timestamp": 1741435009074,
     "user": {
      "displayName": "Duy Dang",
      "userId": "00912337392869305542"
     },
     "user_tz": -420
    },
    "id": "okLiCOZ2jh6f",
    "outputId": "24ca6069-7862-4075-edeb-a3621fd9b94c"
   },
   "outputs": [
    {
     "data": {
      "image/png": "[encoded data removed]",
      "text/plain": [
       "<Figure size 800x800 with 1 Axes>"
      ]
     },
     "metadata": {},
     "output_type": "display_data"
    }
   ],
   "source": [
    "plot(cc)"
   ]
  },
  {
   "cell_type": "code",
   "execution_count": null,
   "metadata": {},
   "outputs": [],
   "source": []
  }
 ],
 "metadata": {
  "accelerator": "GPU",
  "colab": {
   "gpuType": "T4",
   "provenance": []
  },
  "kernelspec": {
   "display_name": "dd-chat",
   "language": "python",
   "name": "python3"
  },
  "language_info": {
   "codemirror_mode": {
    "name": "ipython",
    "version": 3
   },
   "file_extension": ".py",
   "mimetype": "text/x-python",
   "name": "python",
   "nbconvert_exporter": "python",
   "pygments_lexer": "ipython3",
   "version": "3.9.21"
  }
 },
 "nbformat": 4,
 "nbformat_minor": 0
}
