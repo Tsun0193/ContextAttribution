{
  "cells": [
    {
      "cell_type": "code",
      "execution_count": 1,
      "metadata": {
        "colab": {
          "base_uri": "https://localhost:8080/"
        },
        "id": "B9jEYLTzRgwE",
        "outputId": "f781027c-cb58-42c4-e51c-3a80b0540fcd"
      },
      "outputs": [],
      "source": [
        "import sys\n",
        "import os\n",
        "import nltk\n",
        "import json\n",
        "import nest_asyncio\n",
        "import matplotlib.pyplot as plt\n",
        "import numpy as np\n",
        "import torch\n",
        "import time        \n",
        "import warnings\n",
        "\n",
        "from IPython.display import display\n",
        "from huggingface_hub import login\n",
        "from llama_cloud_services import LlamaParse\n",
        "from dotenv import load_dotenv\n",
        "from context_cite import ContextCiter\n",
        "from context_cite.utils import aggregate_logit_probs\n",
        "from context_cite.context_partitioner import SentencePeriodPartitioner\n",
        "from transformers import AutoTokenizer, AutoModelForCausalLM\n",
        "from scipy.stats import spearmanr"
      ]
    },
    {
      "cell_type": "code",
      "execution_count": 2,
      "metadata": {},
      "outputs": [],
      "source": [
        "load_dotenv()\n",
        "nest_asyncio.apply()\n",
        "warnings.filterwarnings(\"ignore\")\n",
        "os.environ['TRANSFORMERS_VERBOSITY'] = 'error'\n",
        "# login(token=os.getenv(\"HF_TOKEN\"))\n",
        "# nltk.download('punkt_tab')\n",
        "parser = LlamaParse(api_key=os.getenv(\"LLAMA_CLOUD_API_TOKEN\"))"
      ]
    },
    {
      "cell_type": "code",
      "execution_count": 3,
      "metadata": {},
      "outputs": [],
      "source": [
        "document = 'documents/sample.txt'\n",
        "MODEL_NAME = \"Llama-3.2-1B-Instruct\"\n",
        "model_name = \"meta-llama/Llama-3.2-1B-Instruct\" # 3.2 1B Instruct for faster inference, 3.1 8B for better performance"
      ]
    },
    {
      "cell_type": "code",
      "execution_count": 4,
      "metadata": {
        "colab": {
          "base_uri": "https://localhost:8080/"
        },
        "id": "uaT_m7pwRJ2c",
        "outputId": "945c1b77-c78e-4a8b-e915-3d2f6a5b5e59"
      },
      "outputs": [],
      "source": [
        "# docs = parser.load_data(document)\n",
        "# data = \"\"\n",
        "# for doc in docs:\n",
        "#     if len(doc.text) >= 32:\n",
        "#         data += doc.text + \" \"\n",
        "# len(data)"
      ]
    },
    {
      "cell_type": "code",
      "execution_count": 5,
      "metadata": {},
      "outputs": [],
      "source": [
        "def plot(cc: ContextCiter, path: str = None):\n",
        "    pred_logs = cc._logit_probs\n",
        "    pred_logits = aggregate_logit_probs(pred_logs)\n",
        "    actu_logits = cc._actual_logit_probs\n",
        "\n",
        "    preds = pred_logits.flatten()\n",
        "    actus = actu_logits.flatten()\n",
        "    assert len(preds) == len(actus), f\"{len(preds)} != {len(actus)}\"\n",
        "\n",
        "    # Compute Spearman correlation without modifying the actual data\n",
        "    corr, _ = spearmanr(preds, actus)  # ✅ Correct way to compute Spearman correlation\n",
        "\n",
        "    plt.figure(figsize=(8, 8))\n",
        "    plt.scatter(preds, actus, alpha=0.3, label=\"Context ablations\")  # Scatter plot\n",
        "\n",
        "    # Plot y = x reference line\n",
        "    x_line = np.linspace(min(preds.min(), actus.min()), max(preds.max(), actus.max()), 100)\n",
        "    plt.plot(x_line, x_line, '--', color='gray', label=\"y = x\")\n",
        "\n",
        "    # Labels and title\n",
        "    plt.xlabel(\"Predicted log-probability\")\n",
        "    plt.ylabel(\"Actual log-probability\")\n",
        "    plt.title(f\"Predicted vs. Actual log-probability\\nSpearman correlation: {corr:.2f}\")\n",
        "    plt.legend()\n",
        "    plt.grid(True)\n",
        "\n",
        "    if path:\n",
        "        plt.savefig(path)\n",
        "    plt.show()"
      ]
    },
    {
      "cell_type": "code",
      "execution_count": 6,
      "metadata": {},
      "outputs": [],
      "source": [
        "def input_handler(path: str) -> str:\n",
        "\tif path.endswith(\".pdf\"):\n",
        "\t\tdocs = parser.load_data(path)\n",
        "\t\tdata = \"\"\n",
        "\t\tfor doc in docs:\n",
        "\t\t\tif len(doc.text) >= 32:\n",
        "\t\t\t\tdata += doc.text + \" \"\n",
        "\t\treturn data\n",
        "\telif path.endswith(\".txt\"):\n",
        "\t\twith open(path, \"r\") as file:\n",
        "\t\t\tdata = file.read()\n",
        "\t\treturn data\n",
        "\telse:\n",
        "\t\traise ValueError(\"Invalid file format\")"
      ]
    },
    {
      "cell_type": "code",
      "execution_count": 7,
      "metadata": {},
      "outputs": [],
      "source": [
        "cc = ContextCiter.from_pretrained(\n",
        "\tmodel_name,\n",
        "\tcontext=input_handler(document),\n",
        "\tquery=\"What is Transformer?\",\n",
        "\tdevice=\"cuda\",\n",
        "\tnum_ablations=64\n",
        ")"
      ]
    },
    {
      "cell_type": "code",
      "execution_count": 8,
      "metadata": {},
      "outputs": [
        {
          "name": "stdout",
          "output_type": "stream",
          "text": [
            "Attributed: The Transformer is a simple neural network architecture proposed by the authors, which is based solely on attention mechanisms, rather than recurrence or convolutional neural networks. It is a model that connects the encoder and decoder through an attention mechanism, allowing for global dependencies to be modeled between input and output sequences. This architecture is designed to be more parallelizable and efficient than traditional models, making it suitable for large-scale training.\n"
          ]
        },
        {
          "data": {
            "application/vnd.jupyter.widget-view+json": {
              "model_id": "01543f261d464289827eee7d7081a4a3",
              "version_major": 2,
              "version_minor": 0
            },
            "text/plain": [
              "  0%|          | 0/63 [00:00<?, ?it/s]"
            ]
          },
          "metadata": {},
          "output_type": "display_data"
        },
        {
          "data": {
            "text/html": [
              "<style type=\"text/css\">\n",
              "#T_d4be9_row0_col0 {\n",
              "  background-color: rgb(80, 180, 80);\n",
              "}\n",
              "#T_d4be9_row1_col0 {\n",
              "  background-color: rgb(162.5351852575493, 215.3722222532354, 162.5351852575493);\n",
              "}\n",
              "#T_d4be9_row2_col0 {\n",
              "  background-color: rgb(218.6256640831921, 239.4109988927966, 218.6256640831921);\n",
              "}\n",
              "#T_d4be9_row3_col0 {\n",
              "  background-color: rgb(230.9354501156967, 244.68662147815573, 230.9354501156967);\n",
              "}\n",
              "#T_d4be9_row4_col0 {\n",
              "  background-color: rgb(231.58688420423147, 244.9658075160992, 231.58688420423147);\n",
              "}\n",
              "</style>\n",
              "<table id=\"T_d4be9\">\n",
              "  <thead>\n",
              "    <tr>\n",
              "      <th class=\"blank level0\" >&nbsp;</th>\n",
              "      <th id=\"T_d4be9_level0_col0\" class=\"col_heading level0 col0\" >Score</th>\n",
              "      <th id=\"T_d4be9_level0_col1\" class=\"col_heading level0 col1\" >Source</th>\n",
              "    </tr>\n",
              "  </thead>\n",
              "  <tbody>\n",
              "    <tr>\n",
              "      <th id=\"T_d4be9_level0_row0\" class=\"row_heading level0 row0\" >0</th>\n",
              "      <td id=\"T_d4be9_row0_col0\" class=\"data row0 col0\" >52.571</td>\n",
              "      <td id=\"T_d4be9_row0_col1\" class=\"data row0 col1\" > We propose a new simple network architecture, the Transformer, based solely on attention mechanisms, dispensing with recurrence and convolutions entirely.</td>\n",
              "    </tr>\n",
              "    <tr>\n",
              "      <th id=\"T_d4be9_level0_row1\" class=\"row_heading level0 row1\" >1</th>\n",
              "      <td id=\"T_d4be9_row1_col0\" class=\"data row1 col0\" >27.777</td>\n",
              "      <td id=\"T_d4be9_row1_col1\" class=\"data row1 col1\" > In this work we propose the Transformer, a model architecture eschewing recurrence and instead relying entirely on an attention mechanism to draw global dependencies between input and output.</td>\n",
              "    </tr>\n",
              "    <tr>\n",
              "      <th id=\"T_d4be9_level0_row2\" class=\"row_heading level0 row2\" >2</th>\n",
              "      <td id=\"T_d4be9_row2_col0\" class=\"data row2 col0\" >10.927</td>\n",
              "      <td id=\"T_d4be9_row2_col1\" class=\"data row2 col1\" > The best performing models also connect the encoder and decoder through an attention mechanism.</td>\n",
              "    </tr>\n",
              "    <tr>\n",
              "      <th id=\"T_d4be9_level0_row3\" class=\"row_heading level0 row3\" >3</th>\n",
              "      <td id=\"T_d4be9_row3_col0\" class=\"data row3 col0\" >7.229</td>\n",
              "      <td id=\"T_d4be9_row3_col1\" class=\"data row3 col1\" > Attention mechanisms have become an integral part of compelling sequence modeling and transduction models in various tasks, allowing modeling of dependencies without regard to their distance in the input or output sequences [2, 19].</td>\n",
              "    </tr>\n",
              "    <tr>\n",
              "      <th id=\"T_d4be9_level0_row4\" class=\"row_heading level0 row4\" >4</th>\n",
              "      <td id=\"T_d4be9_row4_col0\" class=\"data row4 col0\" >7.033</td>\n",
              "      <td id=\"T_d4be9_row4_col1\" class=\"data row4 col1\" >Attention Is All You Need Abstract The dominant sequence transduction models are based on complex recurrent or convolutional neural networks that include an encoder and a decoder.</td>\n",
              "    </tr>\n",
              "  </tbody>\n",
              "</table>\n"
            ],
            "text/plain": [
              "<pandas.io.formats.style.Styler at 0x1a2ccd3b950>"
            ]
          },
          "execution_count": 8,
          "metadata": {},
          "output_type": "execute_result"
        }
      ],
      "source": [
        "res = cc.get_attributions(as_dataframe=True, top_k=5)\n",
        "res"
      ]
    }
  ],
  "metadata": {
    "accelerator": "GPU",
    "colab": {
      "gpuType": "T4",
      "provenance": []
    },
    "kernelspec": {
      "display_name": "base",
      "language": "python",
      "name": "python3"
    },
    "language_info": {
      "codemirror_mode": {
        "name": "ipython",
        "version": 3
      },
      "file_extension": ".py",
      "mimetype": "text/x-python",
      "name": "python",
      "nbconvert_exporter": "python",
      "pygments_lexer": "ipython3",
      "version": "3.12.7"
    },
    "widgets": {
      "application/vnd.jupyter.widget-state+json": {
        "0766d81fd6364e4ba5dd35961455adbc": {
          "model_module": "@jupyter-widgets/controls",
          "model_module_version": "1.5.0",
          "model_name": "HBoxModel",
          "state": {
            "_dom_classes": [],
            "_model_module": "@jupyter-widgets/controls",
            "_model_module_version": "1.5.0",
            "_model_name": "HBoxModel",
            "_view_count": null,
            "_view_module": "@jupyter-widgets/controls",
            "_view_module_version": "1.5.0",
            "_view_name": "HBoxView",
            "box_style": "",
            "children": [
              "IPY_MODEL_99a6e230cabd4e4185cf9c8f534d22de",
              "IPY_MODEL_dd172f1253104ebfb32ec67221e517c1",
              "IPY_MODEL_0f57c66e1ea54a3bb7e7f746a8e29f7e"
            ],
            "layout": "IPY_MODEL_2bb1bb6a11904214b62acfb7e782a505"
          }
        },
        "0c14d33104d549e7b12652fdf7152c8e": {
          "model_module": "@jupyter-widgets/controls",
          "model_module_version": "1.5.0",
          "model_name": "DescriptionStyleModel",
          "state": {
            "_model_module": "@jupyter-widgets/controls",
            "_model_module_version": "1.5.0",
            "_model_name": "DescriptionStyleModel",
            "_view_count": null,
            "_view_module": "@jupyter-widgets/base",
            "_view_module_version": "1.2.0",
            "_view_name": "StyleView",
            "description_width": ""
          }
        },
        "0f57c66e1ea54a3bb7e7f746a8e29f7e": {
          "model_module": "@jupyter-widgets/controls",
          "model_module_version": "1.5.0",
          "model_name": "HTMLModel",
          "state": {
            "_dom_classes": [],
            "_model_module": "@jupyter-widgets/controls",
            "_model_module_version": "1.5.0",
            "_model_name": "HTMLModel",
            "_view_count": null,
            "_view_module": "@jupyter-widgets/controls",
            "_view_module_version": "1.5.0",
            "_view_name": "HTMLView",
            "description": "",
            "description_tooltip": null,
            "layout": "IPY_MODEL_37027f7a34ba411ca3ef5371590d9d1f",
            "placeholder": "​",
            "style": "IPY_MODEL_965f9406719945e4a4eb481cfe35677a",
            "value": " 0/64 [00:03&lt;?, ?it/s]"
          }
        },
        "2bb1bb6a11904214b62acfb7e782a505": {
          "model_module": "@jupyter-widgets/base",
          "model_module_version": "1.2.0",
          "model_name": "LayoutModel",
          "state": {
            "_model_module": "@jupyter-widgets/base",
            "_model_module_version": "1.2.0",
            "_model_name": "LayoutModel",
            "_view_count": null,
            "_view_module": "@jupyter-widgets/base",
            "_view_module_version": "1.2.0",
            "_view_name": "LayoutView",
            "align_content": null,
            "align_items": null,
            "align_self": null,
            "border": null,
            "bottom": null,
            "display": null,
            "flex": null,
            "flex_flow": null,
            "grid_area": null,
            "grid_auto_columns": null,
            "grid_auto_flow": null,
            "grid_auto_rows": null,
            "grid_column": null,
            "grid_gap": null,
            "grid_row": null,
            "grid_template_areas": null,
            "grid_template_columns": null,
            "grid_template_rows": null,
            "height": null,
            "justify_content": null,
            "justify_items": null,
            "left": null,
            "margin": null,
            "max_height": null,
            "max_width": null,
            "min_height": null,
            "min_width": null,
            "object_fit": null,
            "object_position": null,
            "order": null,
            "overflow": null,
            "overflow_x": null,
            "overflow_y": null,
            "padding": null,
            "right": null,
            "top": null,
            "visibility": null,
            "width": null
          }
        },
        "37027f7a34ba411ca3ef5371590d9d1f": {
          "model_module": "@jupyter-widgets/base",
          "model_module_version": "1.2.0",
          "model_name": "LayoutModel",
          "state": {
            "_model_module": "@jupyter-widgets/base",
            "_model_module_version": "1.2.0",
            "_model_name": "LayoutModel",
            "_view_count": null,
            "_view_module": "@jupyter-widgets/base",
            "_view_module_version": "1.2.0",
            "_view_name": "LayoutView",
            "align_content": null,
            "align_items": null,
            "align_self": null,
            "border": null,
            "bottom": null,
            "display": null,
            "flex": null,
            "flex_flow": null,
            "grid_area": null,
            "grid_auto_columns": null,
            "grid_auto_flow": null,
            "grid_auto_rows": null,
            "grid_column": null,
            "grid_gap": null,
            "grid_row": null,
            "grid_template_areas": null,
            "grid_template_columns": null,
            "grid_template_rows": null,
            "height": null,
            "justify_content": null,
            "justify_items": null,
            "left": null,
            "margin": null,
            "max_height": null,
            "max_width": null,
            "min_height": null,
            "min_width": null,
            "object_fit": null,
            "object_position": null,
            "order": null,
            "overflow": null,
            "overflow_x": null,
            "overflow_y": null,
            "padding": null,
            "right": null,
            "top": null,
            "visibility": null,
            "width": null
          }
        },
        "8e05bfdfbd7440beb2c1f2ee25e2edec": {
          "model_module": "@jupyter-widgets/base",
          "model_module_version": "1.2.0",
          "model_name": "LayoutModel",
          "state": {
            "_model_module": "@jupyter-widgets/base",
            "_model_module_version": "1.2.0",
            "_model_name": "LayoutModel",
            "_view_count": null,
            "_view_module": "@jupyter-widgets/base",
            "_view_module_version": "1.2.0",
            "_view_name": "LayoutView",
            "align_content": null,
            "align_items": null,
            "align_self": null,
            "border": null,
            "bottom": null,
            "display": null,
            "flex": null,
            "flex_flow": null,
            "grid_area": null,
            "grid_auto_columns": null,
            "grid_auto_flow": null,
            "grid_auto_rows": null,
            "grid_column": null,
            "grid_gap": null,
            "grid_row": null,
            "grid_template_areas": null,
            "grid_template_columns": null,
            "grid_template_rows": null,
            "height": null,
            "justify_content": null,
            "justify_items": null,
            "left": null,
            "margin": null,
            "max_height": null,
            "max_width": null,
            "min_height": null,
            "min_width": null,
            "object_fit": null,
            "object_position": null,
            "order": null,
            "overflow": null,
            "overflow_x": null,
            "overflow_y": null,
            "padding": null,
            "right": null,
            "top": null,
            "visibility": null,
            "width": null
          }
        },
        "965f9406719945e4a4eb481cfe35677a": {
          "model_module": "@jupyter-widgets/controls",
          "model_module_version": "1.5.0",
          "model_name": "DescriptionStyleModel",
          "state": {
            "_model_module": "@jupyter-widgets/controls",
            "_model_module_version": "1.5.0",
            "_model_name": "DescriptionStyleModel",
            "_view_count": null,
            "_view_module": "@jupyter-widgets/base",
            "_view_module_version": "1.2.0",
            "_view_name": "StyleView",
            "description_width": ""
          }
        },
        "99a6e230cabd4e4185cf9c8f534d22de": {
          "model_module": "@jupyter-widgets/controls",
          "model_module_version": "1.5.0",
          "model_name": "HTMLModel",
          "state": {
            "_dom_classes": [],
            "_model_module": "@jupyter-widgets/controls",
            "_model_module_version": "1.5.0",
            "_model_name": "HTMLModel",
            "_view_count": null,
            "_view_module": "@jupyter-widgets/controls",
            "_view_module_version": "1.5.0",
            "_view_name": "HTMLView",
            "description": "",
            "description_tooltip": null,
            "layout": "IPY_MODEL_e9160052d1f440639972415b35711c96",
            "placeholder": "​",
            "style": "IPY_MODEL_0c14d33104d549e7b12652fdf7152c8e",
            "value": "  0%"
          }
        },
        "c34a93c3c9d74217a32939ee552f498a": {
          "model_module": "@jupyter-widgets/controls",
          "model_module_version": "1.5.0",
          "model_name": "ProgressStyleModel",
          "state": {
            "_model_module": "@jupyter-widgets/controls",
            "_model_module_version": "1.5.0",
            "_model_name": "ProgressStyleModel",
            "_view_count": null,
            "_view_module": "@jupyter-widgets/base",
            "_view_module_version": "1.2.0",
            "_view_name": "StyleView",
            "bar_color": null,
            "description_width": ""
          }
        },
        "dd172f1253104ebfb32ec67221e517c1": {
          "model_module": "@jupyter-widgets/controls",
          "model_module_version": "1.5.0",
          "model_name": "FloatProgressModel",
          "state": {
            "_dom_classes": [],
            "_model_module": "@jupyter-widgets/controls",
            "_model_module_version": "1.5.0",
            "_model_name": "FloatProgressModel",
            "_view_count": null,
            "_view_module": "@jupyter-widgets/controls",
            "_view_module_version": "1.5.0",
            "_view_name": "ProgressView",
            "bar_style": "danger",
            "description": "",
            "description_tooltip": null,
            "layout": "IPY_MODEL_8e05bfdfbd7440beb2c1f2ee25e2edec",
            "max": 64,
            "min": 0,
            "orientation": "horizontal",
            "style": "IPY_MODEL_c34a93c3c9d74217a32939ee552f498a",
            "value": 0
          }
        },
        "e9160052d1f440639972415b35711c96": {
          "model_module": "@jupyter-widgets/base",
          "model_module_version": "1.2.0",
          "model_name": "LayoutModel",
          "state": {
            "_model_module": "@jupyter-widgets/base",
            "_model_module_version": "1.2.0",
            "_model_name": "LayoutModel",
            "_view_count": null,
            "_view_module": "@jupyter-widgets/base",
            "_view_module_version": "1.2.0",
            "_view_name": "LayoutView",
            "align_content": null,
            "align_items": null,
            "align_self": null,
            "border": null,
            "bottom": null,
            "display": null,
            "flex": null,
            "flex_flow": null,
            "grid_area": null,
            "grid_auto_columns": null,
            "grid_auto_flow": null,
            "grid_auto_rows": null,
            "grid_column": null,
            "grid_gap": null,
            "grid_row": null,
            "grid_template_areas": null,
            "grid_template_columns": null,
            "grid_template_rows": null,
            "height": null,
            "justify_content": null,
            "justify_items": null,
            "left": null,
            "margin": null,
            "max_height": null,
            "max_width": null,
            "min_height": null,
            "min_width": null,
            "object_fit": null,
            "object_position": null,
            "order": null,
            "overflow": null,
            "overflow_x": null,
            "overflow_y": null,
            "padding": null,
            "right": null,
            "top": null,
            "visibility": null,
            "width": null
          }
        }
      }
    }
  },
  "nbformat": 4,
  "nbformat_minor": 0
}
