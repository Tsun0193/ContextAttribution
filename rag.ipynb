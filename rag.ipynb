{
 "cells": [
  {
   "cell_type": "code",
   "execution_count": 1,
   "metadata": {},
   "outputs": [
    {
     "name": "stdout",
     "output_type": "stream",
     "text": [
      "resource module not available on Windows\n"
     ]
    },
    {
     "name": "stderr",
     "output_type": "stream",
     "text": [
      "c:\\Users\\Tsunn\\miniconda3\\envs\\nlp\\Lib\\site-packages\\tqdm\\auto.py:21: TqdmWarning: IProgress not found. Please update jupyter and ipywidgets. See https://ipywidgets.readthedocs.io/en/stable/user_install.html\n",
      "  from .autonotebook import tqdm as notebook_tqdm\n"
     ]
    }
   ],
   "source": [
    "import os\n",
    "import openai\n",
    "import chromadb\n",
    "import warnings\n",
    "import nest_asyncio\n",
    "import pandas as pd\n",
    "\n",
    "from llama_parse import LlamaParse\n",
    "from llama_index.core import Document, VectorStoreIndex, get_response_synthesizer, StorageContext, QueryBundle\n",
    "from llama_index.core.retrievers import VectorIndexRetriever, BaseRetriever\n",
    "from llama_index.core.node_parser import SemanticDoubleMergingSplitterNodeParser, LanguageConfig\n",
    "from llama_index.core.schema import NodeWithScore\n",
    "from llama_index.core.query_engine import RetrieverQueryEngine\n",
    "from llama_index.retrievers.bm25 import BM25Retriever\n",
    "from llama_index.embeddings.openai import OpenAIEmbedding\n",
    "from llama_index.vector_stores.chroma import ChromaVectorStore\n",
    "from typing import Literal, List, Optional\n",
    "from dotenv import load_dotenv\n",
    "from tqdm.auto import tqdm\n",
    "from context_cite import ContextCiter"
   ]
  },
  {
   "cell_type": "code",
   "execution_count": 2,
   "metadata": {},
   "outputs": [],
   "source": [
    "load_dotenv()\n",
    "nest_asyncio.apply()\n",
    "warnings.filterwarnings(\"ignore\")"
   ]
  },
  {
   "cell_type": "code",
   "execution_count": 3,
   "metadata": {},
   "outputs": [],
   "source": [
    "document = 'documents/attention.pdf'\n",
    "MODEL_NAME = \"Llama-3.2-1B-Instruct\"\n",
    "model_name = \"meta-llama/Llama-3.2-1B-Instruct\" # 3.2 1B Instruct for faster inference, 3.1 8B for better performance"
   ]
  },
  {
   "cell_type": "code",
   "execution_count": 4,
   "metadata": {},
   "outputs": [],
   "source": [
    "openai.api_key = os.getenv(\"OPENAI_API_KEY\")\n",
    "    \n",
    "config = LanguageConfig(language=\"english\", spacy_model=\"en_core_web_md\") # must download the model first\n",
    "embed_model = OpenAIEmbedding()\n",
    "splitter = SemanticDoubleMergingSplitterNodeParser(\n",
    "    initial_threshold=0.6,\n",
    "    appending_threshold=0.5,\n",
    "    merging_threshold=0.6,\n",
    "    language_config=config,\n",
    "    max_chunk_size=1024,\n",
    ")"
   ]
  },
  {
   "cell_type": "code",
   "execution_count": 5,
   "metadata": {},
   "outputs": [],
   "source": [
    "parser = LlamaParse(\n",
    "    api_key=os.getenv(\"LLAMACLOUD_API_KEY\"),\n",
    "    num_workers=8,\n",
    "    show_progress=True,\n",
    "    result_type=\"markdown\"\n",
    ")"
   ]
  },
  {
   "cell_type": "code",
   "execution_count": 6,
   "metadata": {},
   "outputs": [],
   "source": [
    "file = \"documents/sample.pdf\"\n",
    "if not os.path.exists(file):\n",
    "    raise FileNotFoundError(f\"File {file} not found\")"
   ]
  },
  {
   "cell_type": "code",
   "execution_count": 7,
   "metadata": {},
   "outputs": [
    {
     "name": "stdout",
     "output_type": "stream",
     "text": [
      "Started parsing the file under job_id e58a524d-ed62-426d-9b5a-a90375987f83\n"
     ]
    },
    {
     "name": "stderr",
     "output_type": "stream",
     "text": [
      "Parsing nodes: 100%|██████████| 6/6 [00:03<00:00,  1.94it/s]\n"
     ]
    }
   ],
   "source": [
    "documents = parser.load_data(file)\n",
    "nodes = splitter.get_nodes_from_documents(documents, show_progress=True)"
   ]
  },
  {
   "cell_type": "code",
   "execution_count": 8,
   "metadata": {},
   "outputs": [
    {
     "name": "stderr",
     "output_type": "stream",
     "text": [
      "Generating embeddings: 100%|██████████| 101/101 [00:04<00:00, 24.49it/s]\n"
     ]
    }
   ],
   "source": [
    "storage_context = StorageContext.from_defaults()\n",
    "storage_context.docstore.add_documents(nodes)\n",
    "vector_index = VectorStoreIndex(nodes=nodes, \n",
    "                         insert_batch_size=1024, \n",
    "                         storage_context=storage_context,\n",
    "                         show_progress=True)                                                          "
   ]
  },
  {
   "cell_type": "code",
   "execution_count": 9,
   "metadata": {},
   "outputs": [],
   "source": [
    "dense_retriever = VectorIndexRetriever(index=vector_index, similarity_top_k=5)\n",
    "sparse_retriever = BM25Retriever.from_defaults(nodes=nodes, similarity_top_k=5)\n",
    "\n",
    "res_synth = get_response_synthesizer()"
   ]
  },
  {
   "cell_type": "code",
   "execution_count": 10,
   "metadata": {},
   "outputs": [],
   "source": [
    "class HybridRetriever(BaseRetriever):\n",
    "    def __init__(self, dense_retriever: BaseRetriever = dense_retriever, \n",
    "                 sparse_retriever: BaseRetriever = sparse_retriever,\n",
    "                 mode: Literal[\"AND\", \"OR\"] = \"OR\",\n",
    "                 **kwargs) -> None:\n",
    "        self.dense_retriever = dense_retriever\n",
    "        self.sparse_retriever = sparse_retriever\n",
    "        self.mode = mode\n",
    "\n",
    "        super().__init__(**kwargs)\n",
    "\n",
    "    def _retrieve(self, query_bundle: QueryBundle) -> List[NodeWithScore]:\n",
    "        dense_res = self.dense_retriever.retrieve(query_bundle)\n",
    "        sparse_res = self.sparse_retriever.retrieve(query_bundle)\n",
    "\n",
    "        dense_ids = {n.node.node_id for n in dense_res}\n",
    "        sparse_ids = {n.node.node_id for n in sparse_res}\n",
    "\n",
    "        combined_ids = {n.node.node_id: n for n in dense_res}\n",
    "        combined_ids.update({n.node.node_id: n for n in sparse_res})\n",
    "\n",
    "        if self.mode == \"AND\":\n",
    "            ids = dense_ids.intersection(sparse_ids)\n",
    "\n",
    "        elif self.mode == \"OR\":\n",
    "            ids = dense_ids.union(sparse_ids)\n",
    "\n",
    "        else:\n",
    "            raise ValueError(\"Invalid mode. Must be either 'AND' or 'OR'.\")\n",
    "        \n",
    "        retrieved_nodes = [combined_ids[id] for id in ids]\n",
    "        return retrieved_nodes"
   ]
  },
  {
   "cell_type": "code",
   "execution_count": 11,
   "metadata": {},
   "outputs": [],
   "source": [
    "hybrid_retriever = HybridRetriever(dense_retriever=dense_retriever, sparse_retriever=sparse_retriever)\n",
    "query_engine = RetrieverQueryEngine(retriever=hybrid_retriever, response_synthesizer=res_synth)"
   ]
  },
  {
   "cell_type": "code",
   "execution_count": 12,
   "metadata": {},
   "outputs": [],
   "source": [
    "def rerank(query, nodes,\n",
    "           model=model_name,\n",
    "           top_k=None):\n",
    "    context = \"\\n\\n\".join([node.node.get_content() for node in nodes])\n",
    "    \n",
    "    cc = ContextCiter.from_pretrained(\n",
    "        model_name,\n",
    "        context=context,\n",
    "        query=query,\n",
    "        device=\"cuda\",\n",
    "        num_ablations=32 if len(nodes) < 128 else 64\n",
    "    )\n",
    "\n",
    "    attributions = cc.get_attributions(as_dataframe=True, top_k=len(nodes) if top_k is None else top_k)\n",
    "    \n",
    "    if hasattr(attributions, \"data\"):\n",
    "        attributions_df = attributions.data\n",
    "    else:\n",
    "        attributions_df = attributions\n",
    "\n",
    "    segments = cc.sources\n",
    "    score_list = attributions_df[\"Score\"].tolist()\n",
    "\n",
    "    node_scores = {}\n",
    "    for node in nodes:\n",
    "        node_text = node.node.get_content()\n",
    "        cumulative_score = 0.0\n",
    "        for seg, score in zip(segments, score_list):\n",
    "            if seg.strip() and seg.strip() in node_text:\n",
    "                cumulative_score += score\n",
    "        node_scores[node.node.node_id] = cumulative_score\n",
    "\n",
    "    reranked_nodes = sorted(nodes, key=lambda x: node_scores.get(x.node.node_id, 0.0), reverse=True)\n",
    "    return reranked_nodes, cc.response, node_scores, attributions"
   ]
  },
  {
   "cell_type": "code",
   "execution_count": 13,
   "metadata": {},
   "outputs": [],
   "source": [
    "def query_pdf(query: str) -> list:\n",
    "    \"\"\" \n",
    "    Query the PDF document using the query engine.\"\n",
    "    \"\"\"\n",
    "    global query_engine\n",
    "    if query_engine is None:\n",
    "        return \"Please upload a PDF first.\"\n",
    "\n",
    "    nodes = query_engine.retriever.retrieve(QueryBundle(query))\n",
    "    reranked_nodes, cc_response, node_scores, attrs = rerank(query, nodes)\n",
    "    \n",
    "    top_nodes = reranked_nodes[:5]  # select the top 5 nodes\n",
    "    final_context = \"\\n\\n\".join([node.node.get_content() for node in top_nodes])\n",
    "    \n",
    "    final_response = (\n",
    "        f\"{cc_response}\\n\\nTop Ranked Context:\\n{final_context}\\n\\nNode Scores:\\n{node_scores}\"\n",
    "    )\n",
    "\n",
    "    if hasattr(attrs, \"data\"):\n",
    "        attrs = attrs.data\n",
    "    \n",
    "    return final_response, attrs"
   ]
  },
  {
   "cell_type": "code",
   "execution_count": 14,
   "metadata": {},
   "outputs": [
    {
     "name": "stdout",
     "output_type": "stream",
     "text": [
      "Attributed: The `printf` function in C is used to print formatted output to the console. It is a versatile function that allows you to specify the format of the output, including the format string, the format specifiers, and the values to be printed.\n",
      "\n",
      "The format string is a sequence of characters that describes the format of the output. It can include:\n",
      "\n",
      "* `%d` for decimal integers\n",
      "* `%s` for strings\n",
      "* `%c` for characters\n",
      "* `%f` for floating-point numbers\n",
      "* `%x` for hexadecimal numbers\n",
      "* `%p` for pointers\n",
      "* `%e` for scientific notation\n",
      "* `%g` for general format\n",
      "\n",
      "The format specifiers are used to specify the type of value to be printed. For example, `%d` will print an integer, `%s` will print a string, and `%c` will print a character.\n",
      "\n",
      "The values to be printed can be specified using various methods, such as:\n",
      "\n",
      "* `%x` for hexadecimal numbers\n",
      "* `%d` for decimal integers\n",
      "* `%f` for floating-point numbers\n",
      "* `%s` for strings\n",
      "* `%c` for characters\n",
      "\n",
      "The `printf` function returns an integer value indicating the number of characters printed, or 0 if an error occurred.\n",
      "\n",
      "Here is an example of how to use `printf`:\n",
      "```c\n",
      "#include <stdio.h>\n",
      "\n",
      "int main() {\n",
      "    printf(\"Hello, World!\\n\");\n",
      "    return 0;\n",
      "}\n",
      "```\n",
      "This code will print \"Hello, World!\" to the console.\n",
      "\n",
      "It's worth noting that `printf` is a low-level function that requires manual memory management, which can be error-prone. In contrast, higher-level functions like `printf` are often used to simplify the process of printing output.\n"
     ]
    },
    {
     "name": "stderr",
     "output_type": "stream",
     "text": [
      "100%|██████████| 32/32 [00:13<00:00,  2.32it/s]\n"
     ]
    }
   ],
   "source": [
    "res, attributions = query_pdf(\"What is the purpose of the printf function in C?\")"
   ]
  },
  {
   "cell_type": "code",
   "execution_count": 15,
   "metadata": {},
   "outputs": [
    {
     "data": {
      "text/html": [
       "<div>\n",
       "<style scoped>\n",
       "    .dataframe tbody tr th:only-of-type {\n",
       "        vertical-align: middle;\n",
       "    }\n",
       "\n",
       "    .dataframe tbody tr th {\n",
       "        vertical-align: top;\n",
       "    }\n",
       "\n",
       "    .dataframe thead th {\n",
       "        text-align: right;\n",
       "    }\n",
       "</style>\n",
       "<table border=\"1\" class=\"dataframe\">\n",
       "  <thead>\n",
       "    <tr style=\"text-align: right;\">\n",
       "      <th></th>\n",
       "      <th>Score</th>\n",
       "      <th>Source</th>\n",
       "    </tr>\n",
       "  </thead>\n",
       "  <tbody>\n",
       "    <tr>\n",
       "      <th>0</th>\n",
       "      <td>3.797451</td>\n",
       "      <td>Such program is often the first written by a s...</td>\n",
       "    </tr>\n",
       "    <tr>\n",
       "      <th>1</th>\n",
       "      <td>2.408204</td>\n",
       "      <td>For example, the first non-trivial Malbolge pr...</td>\n",
       "    </tr>\n",
       "    <tr>\n",
       "      <th>2</th>\n",
       "      <td>0.672875</td>\n",
       "      <td>For devices such as microcontrollers, field-pr...</td>\n",
       "    </tr>\n",
       "    <tr>\n",
       "      <th>3</th>\n",
       "      <td>0.582313</td>\n",
       "      <td>A small piece of code in most general-purpose ...</td>\n",
       "    </tr>\n",
       "    <tr>\n",
       "      <th>4</th>\n",
       "      <td>0.226100</td>\n",
       "      <td>Some devices limit the format to specific vari...</td>\n",
       "    </tr>\n",
       "    <tr>\n",
       "      <th>5</th>\n",
       "      <td>0.106918</td>\n",
       "      <td>In contrast, the equivalent code in C++7 requi...</td>\n",
       "    </tr>\n",
       "    <tr>\n",
       "      <th>6</th>\n",
       "      <td>-0.000000</td>\n",
       "      <td>Archived from the original http://theunsungher...</td>\n",
       "    </tr>\n",
       "    <tr>\n",
       "      <th>7</th>\n",
       "      <td>-0.000000</td>\n",
       "      <td>Functional programming languages, such as Lisp...</td>\n",
       "    </tr>\n",
       "    <tr>\n",
       "      <th>8</th>\n",
       "      <td>-0.000000</td>\n",
       "      <td>Some languages change the function of the \"Hel...</td>\n",
       "    </tr>\n",
       "  </tbody>\n",
       "</table>\n",
       "</div>"
      ],
      "text/plain": [
       "      Score                                             Source\n",
       "0  3.797451  Such program is often the first written by a s...\n",
       "1  2.408204  For example, the first non-trivial Malbolge pr...\n",
       "2  0.672875  For devices such as microcontrollers, field-pr...\n",
       "3  0.582313  A small piece of code in most general-purpose ...\n",
       "4  0.226100  Some devices limit the format to specific vari...\n",
       "5  0.106918  In contrast, the equivalent code in C++7 requi...\n",
       "6 -0.000000  Archived from the original http://theunsungher...\n",
       "7 -0.000000  Functional programming languages, such as Lisp...\n",
       "8 -0.000000  Some languages change the function of the \"Hel..."
      ]
     },
     "execution_count": 15,
     "metadata": {},
     "output_type": "execute_result"
    }
   ],
   "source": [
    "attributions"
   ]
  }
 ],
 "metadata": {
  "kernelspec": {
   "display_name": "nlp",
   "language": "python",
   "name": "python3"
  },
  "language_info": {
   "codemirror_mode": {
    "name": "ipython",
    "version": 3
   },
   "file_extension": ".py",
   "mimetype": "text/x-python",
   "name": "python",
   "nbconvert_exporter": "python",
   "pygments_lexer": "ipython3",
   "version": "3.12.9"
  }
 },
 "nbformat": 4,
 "nbformat_minor": 2
}
