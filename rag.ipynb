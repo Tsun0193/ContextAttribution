{
 "cells": [
  {
   "cell_type": "code",
   "execution_count": 1,
   "metadata": {},
   "outputs": [
    {
     "name": "stdout",
     "output_type": "stream",
     "text": [
      "resource module not available on Windows\n"
     ]
    },
    {
     "name": "stderr",
     "output_type": "stream",
     "text": [
      "c:\\Users\\Tsunn\\miniconda3\\envs\\nlp\\Lib\\site-packages\\tqdm\\auto.py:21: TqdmWarning: IProgress not found. Please update jupyter and ipywidgets. See https://ipywidgets.readthedocs.io/en/stable/user_install.html\n",
      "  from .autonotebook import tqdm as notebook_tqdm\n"
     ]
    }
   ],
   "source": [
    "import os\n",
    "import openai\n",
    "import chromadb\n",
    "import warnings\n",
    "import nest_asyncio\n",
    "import pandas as pd\n",
    "\n",
    "from llama_parse import LlamaParse\n",
    "from llama_index.core import Document, VectorStoreIndex, get_response_synthesizer, StorageContext, QueryBundle\n",
    "from llama_index.core.retrievers import VectorIndexRetriever, BaseRetriever\n",
    "from llama_index.core.node_parser import SemanticDoubleMergingSplitterNodeParser, LanguageConfig\n",
    "from llama_index.core.schema import NodeWithScore\n",
    "from llama_index.core.query_engine import RetrieverQueryEngine\n",
    "from llama_index.retrievers.bm25 import BM25Retriever\n",
    "from llama_index.embeddings.openai import OpenAIEmbedding\n",
    "from llama_index.vector_stores.chroma import ChromaVectorStore\n",
    "from typing import Literal, List, Optional\n",
    "from dotenv import load_dotenv\n",
    "from tqdm.auto import tqdm\n",
    "from context_cite import ContextCiter"
   ]
  },
  {
   "cell_type": "code",
   "execution_count": 2,
   "metadata": {},
   "outputs": [],
   "source": [
    "load_dotenv()\n",
    "nest_asyncio.apply()\n",
    "warnings.filterwarnings(\"ignore\")"
   ]
  },
  {
   "cell_type": "code",
   "execution_count": 5,
   "metadata": {},
   "outputs": [],
   "source": [
    "document = 'documents/attention.pdf'\n",
    "MODEL_NAME = \"Llama-3.2-1B-Instruct\"\n",
    "model_name = \"meta-llama/Llama-3.2-1B-Instruct\" # 3.2 1B Instruct for faster inference, 3.1 8B for better performance"
   ]
  },
  {
   "cell_type": "code",
   "execution_count": null,
   "metadata": {},
   "outputs": [],
   "source": [
    "openai.api_key = os.getenv(\"OPENAI_API_KEY\")\n",
    "    \n",
    "config = LanguageConfig(language=\"english\", spacy_model=\"en_core_web_md\") # must download the model first\n",
    "embed_model = OpenAIEmbedding()\n",
    "splitter = SemanticDoubleMergingSplitterNodeParser(\n",
    "    initial_threshold=0.6,\n",
    "    appending_threshold=0.5,\n",
    "    merging_threshold=0.6,\n",
    "    language_config=config,\n",
    "    max_chunk_size=1024,\n",
    ")"
   ]
  },
  {
   "cell_type": "code",
   "execution_count": 4,
   "metadata": {},
   "outputs": [],
   "source": [
    "parser = LlamaParse(\n",
    "    api_key=os.getenv(\"LLAMACLOUD_API_KEY\"),\n",
    "    num_workers=8,\n",
    "    show_progress=True,\n",
    "    result_type=\"markdown\"\n",
    ")"
   ]
  },
  {
   "cell_type": "code",
   "execution_count": 6,
   "metadata": {},
   "outputs": [],
   "source": [
    "file = \"documents/sample.pdf\"\n",
    "if not os.path.exists(file):\n",
    "    raise FileNotFoundError(f\"File {file} not found\")"
   ]
  },
  {
   "cell_type": "code",
   "execution_count": null,
   "metadata": {},
   "outputs": [
    {
     "name": "stdout",
     "output_type": "stream",
     "text": [
      "Started parsing the file under job_id 9b0f928a-d275-4a7f-99c1-6ec8c479ed7b\n"
     ]
    }
   ],
   "source": [
    "documents = parser.load_data(file)\n",
    "nodes = splitter.get_nodes_from_documents(documents, show_progress=True)"
   ]
  },
  {
   "cell_type": "code",
   "execution_count": 10,
   "metadata": {},
   "outputs": [
    {
     "name": "stderr",
     "output_type": "stream",
     "text": [
      "Generating embeddings: 100%|██████████| 101/101 [00:03<00:00, 30.33it/s]\n"
     ]
    }
   ],
   "source": [
    "storage_context = StorageContext.from_defaults()\n",
    "storage_context.docstore.add_documents(nodes)\n",
    "vector_index = VectorStoreIndex(nodes=nodes, \n",
    "                         insert_batch_size=1024, \n",
    "                         storage_context=storage_context,\n",
    "                         show_progress=True)                                                          "
   ]
  },
  {
   "cell_type": "code",
   "execution_count": 11,
   "metadata": {},
   "outputs": [],
   "source": [
    "dense_retriever = VectorIndexRetriever(index=vector_index, similarity_top_k=5)\n",
    "sparse_retriever = BM25Retriever.from_defaults(nodes=nodes, similarity_top_k=5)\n",
    "\n",
    "res_synth = get_response_synthesizer()"
   ]
  },
  {
   "cell_type": "code",
   "execution_count": 12,
   "metadata": {},
   "outputs": [],
   "source": [
    "class HybridRetriever(BaseRetriever):\n",
    "    def __init__(self, dense_retriever: BaseRetriever = dense_retriever, \n",
    "                 sparse_retriever: BaseRetriever = sparse_retriever,\n",
    "                 mode: Literal[\"AND\", \"OR\"] = \"OR\",\n",
    "                 **kwargs) -> None:\n",
    "        self.dense_retriever = dense_retriever\n",
    "        self.sparse_retriever = sparse_retriever\n",
    "        self.mode = mode\n",
    "\n",
    "        super().__init__(**kwargs)\n",
    "\n",
    "    def _retrieve(self, query_bundle: QueryBundle) -> List[NodeWithScore]:\n",
    "        dense_res = self.dense_retriever.retrieve(query_bundle)\n",
    "        sparse_res = self.sparse_retriever.retrieve(query_bundle)\n",
    "\n",
    "        dense_ids = {n.node.node_id for n in dense_res}\n",
    "        sparse_ids = {n.node.node_id for n in sparse_res}\n",
    "\n",
    "        combined_ids = {n.node.node_id: n for n in dense_res}\n",
    "        combined_ids.update({n.node.node_id: n for n in sparse_res})\n",
    "\n",
    "        if self.mode == \"AND\":\n",
    "            ids = dense_ids.intersection(sparse_ids)\n",
    "\n",
    "        elif self.mode == \"OR\":\n",
    "            ids = dense_ids.union(sparse_ids)\n",
    "\n",
    "        else:\n",
    "            raise ValueError(\"Invalid mode. Must be either 'AND' or 'OR'.\")\n",
    "        \n",
    "        retrieved_nodes = [combined_ids[id] for id in ids]\n",
    "        return retrieved_nodes"
   ]
  },
  {
   "cell_type": "code",
   "execution_count": null,
   "metadata": {},
   "outputs": [],
   "source": [
    "hybrid_retriever = HybridRetriever(dense_retriever=dense_retriever, sparse_retriever=sparse_retriever)\n",
    "query_engine = RetrieverQueryEngine(retriever=hybrid_retriever, response_synthesizer=res_synth)"
   ]
  },
  {
   "cell_type": "code",
   "execution_count": 15,
   "metadata": {},
   "outputs": [],
   "source": [
    "def rerank(query, nodes,\n",
    "           model=model_name,\n",
    "           top_k=5):\n",
    "    context = \"\\n\\n\".join([node.node.get_content() for node in nodes])\n",
    "    \n",
    "    cc = ContextCiter.from_pretrained(\n",
    "        model_name,\n",
    "        context=context,\n",
    "        query=query,\n",
    "        device=\"cuda\"\n",
    "    )\n",
    "\n",
    "    attributions = cc.get_attributions(as_dataframe=True, top_k=len(nodes))\n",
    "    \n",
    "    if hasattr(attributions, \"data\"):\n",
    "        attributions_df = attributions.data\n",
    "    else:\n",
    "        attributions_df = attributions\n",
    "\n",
    "    segments = cc.sources\n",
    "    score_list = attributions_df[\"Score\"].tolist()\n",
    "\n",
    "    node_scores = {}\n",
    "    for node in nodes:\n",
    "        node_text = node.node.get_content()\n",
    "        cumulative_score = 0.0\n",
    "        for seg, score in zip(segments, score_list):\n",
    "            if seg.strip() and seg.strip() in node_text:\n",
    "                cumulative_score += score\n",
    "        node_scores[node.node.node_id] = cumulative_score\n",
    "\n",
    "    reranked_nodes = sorted(nodes, key=lambda x: node_scores.get(x.node.node_id, 0.0), reverse=True)\n",
    "    return reranked_nodes, cc.response, node_scores, attributions"
   ]
  },
  {
   "cell_type": "code",
   "execution_count": 16,
   "metadata": {},
   "outputs": [],
   "source": [
    "def query_pdf(query):\n",
    "    global query_engine\n",
    "    if query_engine is None:\n",
    "        return \"Please upload a PDF first.\"\n",
    "\n",
    "    nodes = query_engine.retriever.retrieve(QueryBundle(query))\n",
    "    reranked_nodes, cc_response, node_scores, attrs = rerank(query, nodes)\n",
    "    \n",
    "    top_nodes = reranked_nodes[:5]  # select the top 5 nodes\n",
    "    final_context = \"\\n\\n\".join([node.node.get_content() for node in top_nodes])\n",
    "    \n",
    "    final_response = (\n",
    "        f\"{cc_response}\\n\\nTop Ranked Context:\\n{final_context}\\n\\nNode Scores:\\n{node_scores}\"\n",
    "    )\n",
    "\n",
    "    if hasattr(attrs, \"data\"):\n",
    "        attrs = attrs.data\n",
    "    \n",
    "    return final_response, attrs"
   ]
  },
  {
   "cell_type": "code",
   "execution_count": 17,
   "metadata": {},
   "outputs": [
    {
     "name": "stdout",
     "output_type": "stream",
     "text": [
      "Attributed: The `printf` function in C is used to print formatted output to the console. It is a versatile function that allows you to specify the format of the output, including the format string, the format specifiers, and the values to be printed.\n",
      "\n",
      "The format string is a sequence of characters that describes the format of the output. It can include:\n",
      "\n",
      "* `%d` for decimal integers\n",
      "* `%s` for strings\n",
      "* `%c` for characters\n",
      "* `%f` for floating-point numbers\n",
      "* `%x` for hexadecimal numbers\n",
      "* `%p` for pointers\n",
      "* `%e` for scientific notation\n",
      "* `%g` for general format\n",
      "\n",
      "The format specifiers are used to specify the type of value to be printed. For example, `%d` will print an integer, `%s` will print a string, and `%c` will print a character.\n",
      "\n",
      "The values to be printed can be specified using various methods, such as:\n",
      "\n",
      "* `%x` for hexadecimal numbers\n",
      "* `%o` for octal numbers\n",
      "* `%b` for binary numbers\n",
      "* `%f` for floating-point numbers\n",
      "* `%e` for scientific notation\n",
      "* `%g` for general format\n",
      "\n",
      "The `printf` function can also be used to print multiple values by separating them with commas.\n",
      "\n",
      "Here is an example of how to use `printf`:\n",
      "```c\n",
      "#include <stdio.h>\n",
      "\n",
      "int main() {\n",
      "    printf(\"Hello, World!\\n\");\n",
      "    printf(\"My name is %s and I am %d years old.\\n\", \"John\", 30);\n",
      "    return 0;\n",
      "}\n",
      "```\n",
      "This code will print \"Hello, World!\" followed by \"My name is John and I am 30 years old.\"\n"
     ]
    },
    {
     "name": "stderr",
     "output_type": "stream",
     "text": [
      "100%|██████████| 64/64 [01:32<00:00,  1.44s/it]\n"
     ]
    }
   ],
   "source": [
    "res = query_pdf(\"What is the purpose of the printf function in C?\")"
   ]
  },
  {
   "cell_type": "code",
   "execution_count": 18,
   "metadata": {},
   "outputs": [
    {
     "data": {
      "text/plain": [
       "('The `printf` function in C is used to print formatted output to the console. It is a versatile function that allows you to specify the format of the output, including the format string, the format specifiers, and the values to be printed.\\n\\nThe format string is a sequence of characters that describes the format of the output. It can include:\\n\\n* `%d` for decimal integers\\n* `%s` for strings\\n* `%c` for characters\\n* `%f` for floating-point numbers\\n* `%x` for hexadecimal numbers\\n* `%p` for pointers\\n* `%e` for scientific notation\\n* `%g` for general format\\n\\nThe format specifiers are used to specify the type of value to be printed. For example, `%d` will print an integer, `%s` will print a string, and `%c` will print a character.\\n\\nThe values to be printed can be specified using various methods, such as:\\n\\n* `%x` for hexadecimal numbers\\n* `%o` for octal numbers\\n* `%b` for binary numbers\\n* `%f` for floating-point numbers\\n* `%e` for scientific notation\\n* `%g` for general format\\n\\nThe `printf` function can also be used to print multiple values by separating them with commas.\\n\\nHere is an example of how to use `printf`:\\n```c\\n#include <stdio.h>\\n\\nint main() {\\n    printf(\"Hello, World!\\\\n\");\\n    printf(\"My name is %s and I am %d years old.\\\\n\", \"John\", 30);\\n    return 0;\\n}\\n```\\nThis code will print \"Hello, World!\" followed by \"My name is John and I am 30 years old.\"\\n\\nTop Ranked Context:\\n\"Programming in C: A Tutorial\" (PDF).\\n\\n# Hello, World! program\\n\\nA \"Hello, World!\" program is usually a simple computer program that emits (or displays) to the screen (often the console) a message similar to \"Hello, World!\". A small piece of code in most general-purpose programming languages, this program is used to illustrate a language\\'s basic syntax. Such program is often the first written by a student of a new programming language,1 but such a program can also be used as a sanity check to ensure that the computer software intended to compile or run source code is correctly installed, and that its operator understands how to use it. # History\\n\\nWhile several small test programs have existed since the development of programmable computers, the tradition of using the phrase \"Hello, World!\" as a test message was influenced by an example program in the 1978 book *The C Programming Language,2 with likely earlier use in BCPL. The example program from the book prints \"hello, world\", and was inherited from a 1974 Bell Laboratories internal memorandum by Brian Kernighan, Programming in C: A Tutorial*:3\\n\\nmain( ) {\\nprintf(\"hello, world\");\\n}\\n\\nIn the above example, the main( ) function defines where the \"Hello, World!\" program handwritten program should start executing. The function body consists of a single statement, a call to the printf() function, which stands for \"print formatted\"; it outputs to the console whatever is passed to it as the parameter, in this case the string \"hello, world\". The C-language version was preceded by Kernighan\\'s own 1972 *A Tutorial Introduction to the Language B*,4 where the first known version of the program is found in an example used to illustrate external variables:\\n\\nmain( ) {\\nextrn a, b, c;\\nputchar(a); putchar(b); putchar(c); putchar(\\'! *n\\');\\n}\\na \\'hell\\';\\nb \\'o, w\\';\\nc \\'orld\\';\\n\\nThe program above prints hello, world! on the terminal, including a newline character. The phrase is divided into multiple variables because in B a character constant is limited to four ASCII characters. The previous example in the tutorial printed hi! on the terminal, and the phrase hello,\\n\\nwas introduced as a slightly longer greeting that required several character constants for its expression. The Jargon File reports that \"hello, world\" instead originated in 1967 with the language BCPL.5 Outside computing, use of the exact phrase began over a decade prior; it was the catchphrase of New York radio disc jockey William B. Williams beginning in the 1950s.6\\n\\n# Variations\\n\\n\"Hello, World!\" programs vary in complexity between different languages. In some languages, particularly scripting languages, the \"Hello, World!\" program can be written as one statement, while in others (more so many low-level languages) many more statements can be required. For example, in Python, to print the string Hello, World! followed by a newline, one only needs to write print(\"Hello, World!\"). In contrast, the equivalent code in C++7 requires the import of the input/output (I/O) software library, the manual declaration of an entry point, and the explicit instruction that the output string should be sent to the standard output stream. The phrase \"Hello, World!\" has seen various deviations in casing and punctuation, such as the capitalization of the leading H and W, and the presence of the comma or exclamation mark. Some devices limit the format to specific variations, such as all-capitalized versions on systems that support only capital letters, while some esoteric programming languages may have to print a slightly modified string. For example, the first non-trivial Malbolge program printed \"HEllO WORld\", this having been determined to be good enough.8 Other human languages have been used as the output; for example, a tutorial for the Go language emitted both English and Chinese or Japanese characters, demonstrating the language\\'s built-in Unicode support.9 Another notable example is the Rust language, whose management system automatically inserts a \"Hello, World\" program when creating new projects. Some languages change the function of the \"Hello, World!\" program while maintaining the spirit of demonstrating a simple example. Functional programming languages, such as Lisp, ML, and Haskell, tend to substitute a factorial program for \"Hello, World! \", as functional programming emphasizes recursive techniques, whereas the original examples emphasize I/O, which violates the spirit of pure functional programming by producing side effects. Languages otherwise able to print \"Hello, World!\" (assembly language, C, VHDL) may also be used in embedded systems, where text output is either difficult (requiring added components or communication with another computer) or nonexistent. For devices such as microcontrollers, field-programmable gate arrays, and complex programmable logic devices (CPLDs), \"Hello, World!\" may thus be substituted with a blinking light-emitting diode (LED), which demonstrates timing and interaction between components.1011121314\\n\\nTheUnsungHeroesOfIT.com.\\n\\n§ Use of video as a graphical and audio test (graphic equivalent to \"Hello, World!\" for old hardware)\\n- Foobar\\n- Java Pet Store\\n- Just another Perl hacker\\n- Outline of computer science\\n- TPK algorithm\\n\\n# References\\n\\n1.\\n\\nNode Scores:\\n{\\'85f4f8af-09a2-48fe-8139-baf2f6babc5b\\': 3.0208766001083864, \\'708ba05d-a0f8-4a6e-913b-51fb84314e30\\': 1.2003937303041008, \\'2c88dd4e-497e-414a-a29a-6490016bfc88\\': 0.0, \\'c0282c66-bd91-4142-9de9-fdf44f5e6267\\': 0.0, \\'cc82b8f6-7bea-457c-984d-55723fd630d0\\': 0.0, \\'74e49a4e-79c8-4bfe-b077-f62e46c7bf71\\': 0.0, \\'4627c59f-c238-4df2-9935-4ce1b49a9f00\\': 0.0, \\'95150e9c-f073-4d26-9ed8-3991481b1039\\': 0.0, \\'1afc392e-e366-4a09-973f-c248a8dc2325\\': 0.0}',\n",
       "       Score                                             Source\n",
       " 0  3.020877  Such program is often the first written by a s...\n",
       " 1  1.185257  For example, the first non-trivial Malbolge pr...\n",
       " 2  0.711491  For devices such as microcontrollers, field-pr...\n",
       " 3  0.543206  The C-language version was preceded by Kernigh...\n",
       " 4  0.488903  Some languages change the function of the \"Hel...\n",
       " 5  0.439159  Functional programming languages, such as Lisp...\n",
       " 6 -0.000000  Languages otherwise able to print \"Hello, Worl...\n",
       " 7  0.000000  Archived from the original http://theunsungher...\n",
       " 8  0.000000  Retrieved from https://en.wikipedia.org/w/inde...)"
      ]
     },
     "execution_count": 18,
     "metadata": {},
     "output_type": "execute_result"
    }
   ],
   "source": [
    "res"
   ]
  }
 ],
 "metadata": {
  "kernelspec": {
   "display_name": "nlp",
   "language": "python",
   "name": "python3"
  },
  "language_info": {
   "codemirror_mode": {
    "name": "ipython",
    "version": 3
   },
   "file_extension": ".py",
   "mimetype": "text/x-python",
   "name": "python",
   "nbconvert_exporter": "python",
   "pygments_lexer": "ipython3",
   "version": "3.12.9"
  }
 },
 "nbformat": 4,
 "nbformat_minor": 2
}
