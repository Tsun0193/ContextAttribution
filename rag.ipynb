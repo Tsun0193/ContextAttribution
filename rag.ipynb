{
 "cells": [
  {
   "cell_type": "code",
   "execution_count": 1,
   "metadata": {},
   "outputs": [],
   "source": [
    "import os\n",
    "import torch\n",
    "import openai\n",
    "import chromadb\n",
    "import warnings\n",
    "import nest_asyncio\n",
    "import pandas as pd\n",
    "\n",
    "from llama_parse import LlamaParse\n",
    "from llama_index.core import Document, VectorStoreIndex, get_response_synthesizer, StorageContext, QueryBundle\n",
    "from llama_index.core.retrievers import VectorIndexRetriever, BaseRetriever\n",
    "from llama_index.core.node_parser import SemanticDoubleMergingSplitterNodeParser, LanguageConfig\n",
    "from llama_index.core.schema import NodeWithScore\n",
    "from llama_index.core.query_engine import RetrieverQueryEngine\n",
    "from llama_index.retrievers.bm25 import BM25Retriever\n",
    "from llama_index.embeddings.openai import OpenAIEmbedding\n",
    "from llama_index.vector_stores.chroma import ChromaVectorStore\n",
    "from typing import Literal, List, Optional\n",
    "from dotenv import load_dotenv\n",
    "from tqdm.auto import tqdm\n",
    "from context_cite import ContextCiter"
   ]
  },
  {
   "cell_type": "code",
   "execution_count": 2,
   "metadata": {},
   "outputs": [],
   "source": [
    "os.environ[\"CUDA_VISIBLE_DEVICES\"] = \"1\"\n",
    "torch.cuda.set_device(1)"
   ]
  },
  {
   "cell_type": "code",
   "execution_count": 3,
   "metadata": {},
   "outputs": [],
   "source": [
    "load_dotenv()\n",
    "nest_asyncio.apply()\n",
    "warnings.filterwarnings(\"ignore\")"
   ]
  },
  {
   "cell_type": "code",
   "execution_count": 4,
   "metadata": {},
   "outputs": [],
   "source": [
    "document = 'documents/attention.pdf'\n",
    "MODEL_NAME = \"Llama-3.2-1B-Instruct\"\n",
    "model_name = \"meta-llama/Llama-3.2-1B-Instruct\" # 3.2 1B Instruct for faster inference, 3.1 8B for better performance"
   ]
  },
  {
   "cell_type": "code",
   "execution_count": 5,
   "metadata": {},
   "outputs": [],
   "source": [
    "openai.api_key = os.getenv(\"OPENAI_API_KEY\")\n",
    "    \n",
    "config = LanguageConfig(language=\"english\", spacy_model=\"en_core_web_md\") # must download the model first\n",
    "embed_model = OpenAIEmbedding()\n",
    "splitter = SemanticDoubleMergingSplitterNodeParser(\n",
    "    initial_threshold=0.6,\n",
    "    appending_threshold=0.5,\n",
    "    merging_threshold=0.6,\n",
    "    language_config=config,\n",
    "    max_chunk_size=1024,\n",
    ")"
   ]
  },
  {
   "cell_type": "code",
   "execution_count": 6,
   "metadata": {},
   "outputs": [],
   "source": [
    "# parser = LlamaParse(\n",
    "#     api_key=os.getenv(\"LLAMA_CLOUD_API_TOKEN\"),\n",
    "#     num_workers=8,\n",
    "#     show_progress=True,\n",
    "#     result_type=\"markdown\"\n",
    "# )"
   ]
  },
  {
   "cell_type": "code",
   "execution_count": 7,
   "metadata": {},
   "outputs": [],
   "source": [
    "# file = \"documents/intro_to_ml.pdf\"\n",
    "# if not os.path.exists(file):\n",
    "#     raise FileNotFoundError(f\"File {file} not found\")"
   ]
  },
  {
   "cell_type": "code",
   "execution_count": 8,
   "metadata": {},
   "outputs": [],
   "source": [
    "# documents = parser.load_data(file)\n",
    "# nodes = splitter.get_nodes_from_documents(documents, show_progress=True)\n",
    "text = \"\"\"\n",
    "Attention Is All You Need.\n",
    "\n",
    "Abstract.\n",
    "The dominant sequence transduction models are based on complex recurrent or convolutional neural networks that include an encoder and a decoder. The best performing models also connect the encoder and decoder through an attention mechanism. We propose a new simple network architecture, the Transformer, based solely on attention mechanisms, dispensing with recurrence and convolutions entirely. Experiments on two machine translation tasks show these models to be superior in quality while being more parallelizable and requiring significantly less time to train. Our model achieves 28.4 BLEU on the WMT 2014 English-to-German translation task, improving over the existing best results, including ensembles, by over 2 BLEU. On the WMT 2014 English-to-French translation task, our model establishes a new single-model state-of-the-art BLEU score of 41.8 after training for 3.5 days on eight GPUs, a small fraction of the training costs of the best models from the literature. We show that the Transformer generalizes well to other tasks by applying it successfully to English constituency parsing both with large and limited training data.\n",
    "1 Introduction.\n",
    "Recurrent neural networks, long short-term memory [13] and gated recurrent [7] neural networks in particular, have been firmly established as state of the art approaches in sequence modeling and transduction problems such as language modeling and machine translation [35, 2, 5]. Numerous efforts have since continued to push the boundaries of recurrent language models and encoder-decoder architectures [38, 24, 15].\n",
    "Recurrent models typically factor computation along the symbol positions of the input and output sequences. Aligning the positions to steps in computation time, they generate a sequence of hidden states ht, as a function of the previous hidden state ht-1 and the input for position t. This inherently sequential nature precludes parallelization within training examples, which becomes critical at longer sequence lengths, as memory constraints limit batching across examples. Recent work has achieved significant improvements in computational efficiency through factorization tricks [21] and conditional computation [32], while also improving model performance in case of the latter. The fundamental constraint of sequential computation, however, remains.\n",
    "Attention mechanisms have become an integral part of compelling sequence modeling and transduction models in various tasks, allowing modeling of dependencies without regard to their distance in the input or output sequences [2, 19]. In all but a few cases [27], however, such attention mechanisms are used in conjunction with a recurrent network.\n",
    "In this work we propose the Transformer, a model architecture eschewing recurrence and instead relying entirely on an attention mechanism to draw global dependencies between input and output. The Transformer allows for significantly more parallelization and can reach a new state of the art in translation quality after being trained for as little as twelve hours on eight P100 GPUs.\n",
    "\"\"\"\n",
    "ts = text.split(\"\\n\")\n",
    "\n",
    "nodes = [Document(text=t) for t in ts if len(t) > 0]"
   ]
  },
  {
   "cell_type": "code",
   "execution_count": 9,
   "metadata": {},
   "outputs": [
    {
     "data": {
      "application/vnd.jupyter.widget-view+json": {
       "model_id": "a32f30afb62f49999071749cd320116c",
       "version_major": 2,
       "version_minor": 0
      },
      "text/plain": [
       "Generating embeddings:   0%|          | 0/8 [00:00<?, ?it/s]"
      ]
     },
     "metadata": {},
     "output_type": "display_data"
    }
   ],
   "source": [
    "storage_context = StorageContext.from_defaults()\n",
    "storage_context.docstore.add_documents(nodes)\n",
    "vector_index = VectorStoreIndex(nodes=nodes, \n",
    "                         insert_batch_size=1024, \n",
    "                         storage_context=storage_context,\n",
    "                         show_progress=True)                                                          "
   ]
  },
  {
   "cell_type": "code",
   "execution_count": 10,
   "metadata": {},
   "outputs": [],
   "source": [
    "dense_retriever = VectorIndexRetriever(index=vector_index, similarity_top_k=5)\n",
    "sparse_retriever = BM25Retriever.from_defaults(nodes=nodes, similarity_top_k=5)\n",
    "\n",
    "res_synth = get_response_synthesizer()"
   ]
  },
  {
   "cell_type": "code",
   "execution_count": 11,
   "metadata": {},
   "outputs": [],
   "source": [
    "class HybridRetriever(BaseRetriever):\n",
    "    def __init__(self, dense_retriever: BaseRetriever = dense_retriever, \n",
    "                 sparse_retriever: BaseRetriever = sparse_retriever,\n",
    "                 mode: Literal[\"AND\", \"OR\"] = \"OR\",\n",
    "                 **kwargs) -> None:\n",
    "        self.dense_retriever = dense_retriever\n",
    "        self.sparse_retriever = sparse_retriever\n",
    "        self.mode = mode\n",
    "\n",
    "        super().__init__(**kwargs)\n",
    "\n",
    "    def _retrieve(self, query_bundle: QueryBundle) -> List[NodeWithScore]:\n",
    "        dense_res = self.dense_retriever.retrieve(query_bundle)\n",
    "        sparse_res = self.sparse_retriever.retrieve(query_bundle)\n",
    "\n",
    "        dense_ids = {n.node.node_id for n in dense_res}\n",
    "        sparse_ids = {n.node.node_id for n in sparse_res}\n",
    "\n",
    "        combined_ids = {n.node.node_id: n for n in dense_res}\n",
    "        combined_ids.update({n.node.node_id: n for n in sparse_res})\n",
    "\n",
    "        if self.mode == \"AND\":\n",
    "            ids = dense_ids.intersection(sparse_ids)\n",
    "\n",
    "        elif self.mode == \"OR\":\n",
    "            ids = dense_ids.union(sparse_ids)\n",
    "\n",
    "        else:\n",
    "            raise ValueError(\"Invalid mode. Must be either 'AND' or 'OR'.\")\n",
    "        \n",
    "        retrieved_nodes = [combined_ids[id] for id in ids]\n",
    "        return retrieved_nodes"
   ]
  },
  {
   "cell_type": "code",
   "execution_count": 12,
   "metadata": {},
   "outputs": [],
   "source": [
    "hybrid_retriever = HybridRetriever(dense_retriever=dense_retriever, sparse_retriever=sparse_retriever)\n",
    "query_engine = RetrieverQueryEngine(retriever=hybrid_retriever, response_synthesizer=res_synth)"
   ]
  },
  {
   "cell_type": "code",
   "execution_count": 13,
   "metadata": {},
   "outputs": [],
   "source": [
    "def rerank(query, nodes,\n",
    "           model=model_name,\n",
    "           long=False,\n",
    "           top_k=None):\n",
    "    context = \"\\n\\n\".join([node.node.get_content() for node in nodes])\n",
    "    \n",
    "    cc = ContextCiter.from_pretrained(\n",
    "        model_name,\n",
    "        context=context,\n",
    "        query=query,\n",
    "        device=\"cuda:3\",\n",
    "        solver=\"elastic_net\",\n",
    "        num_ablations=128\n",
    "    )\n",
    "\n",
    "    attributions = cc.get_attributions(as_dataframe=True, top_k=len(nodes) if top_k is None else top_k)\n",
    "    styler = attributions\n",
    "    if hasattr(attributions, \"data\"):\n",
    "        attributions_df = attributions.data\n",
    "    else:\n",
    "        attributions_df = attributions\n",
    "\n",
    "    segments = cc.sources\n",
    "    score_list = attributions_df[\"Score\"].tolist()\n",
    "\n",
    "    node_scores = {}\n",
    "    for node in nodes:\n",
    "        node_text = node.node.get_content()\n",
    "        cumulative_score = 0.0\n",
    "        for seg, score in zip(segments, score_list):\n",
    "            if seg.strip() and seg.strip() in node_text:\n",
    "                cumulative_score += score\n",
    "        node_scores[node.node.node_id] = cumulative_score\n",
    "\n",
    "    reranked_nodes = sorted(nodes, key=lambda x: node_scores.get(x.node.node_id, 0.0), reverse=True)\n",
    "    return reranked_nodes, cc.response, node_scores, attributions, styler"
   ]
  },
  {
   "cell_type": "code",
   "execution_count": 14,
   "metadata": {},
   "outputs": [],
   "source": [
    "def query_pdf(query: str, top_k: int = 5) -> list:\n",
    "    \"\"\" \n",
    "    Query the PDF document using the query engine.\"\n",
    "    \"\"\"\n",
    "    global query_engine, nodes\n",
    "    if query_engine is None:\n",
    "        return \"Please upload a PDF first.\"\n",
    "\n",
    "    long = True if len(nodes) > 100 else False\n",
    "    rnodes = query_engine.retriever.retrieve(QueryBundle(query))\n",
    "    reranked_nodes, cc_response, node_scores, attrs, styler = rerank(query, rnodes)\n",
    "    \n",
    "    top_nodes = reranked_nodes[:top_k]  \n",
    "    final_context = \"\\n\\n\".join([node.node.get_content() for node in top_nodes])\n",
    "    \n",
    "    final_response = (\n",
    "        f\"{cc_response}\\n\\nTop Ranked Context:\\n{final_context}\\n\\nNode Scores:\\n{node_scores}\"\n",
    "    )\n",
    "\n",
    "    \n",
    "    if hasattr(attrs, \"data\"):\n",
    "        attrs = attrs.data\n",
    "    \n",
    "    return final_response, attrs, styler"
   ]
  },
  {
   "cell_type": "code",
   "execution_count": 21,
   "metadata": {},
   "outputs": [
    {
     "name": "stdout",
     "output_type": "stream",
     "text": [
      "Attributed: The authors used eight P100 GPUs in their experiments.\n"
     ]
    }
   ],
   "source": [
    "res, attributions, board = query_pdf(\"What type of GPUs did the authors use in this paper?\")"
   ]
  },
  {
   "cell_type": "code",
   "execution_count": 22,
   "metadata": {},
   "outputs": [
    {
     "data": {
      "text/html": [
       "<style type=\"text/css\">\n",
       "#T_3aaa9_row0_col0 {\n",
       "  background-color: rgb(80, 180, 80);\n",
       "}\n",
       "#T_3aaa9_row1_col0 {\n",
       "  background-color: rgb(218.20079294523504, 239.22891126224357, 218.20079294523504);\n",
       "}\n",
       "#T_3aaa9_row2_col0 {\n",
       "  background-color: rgb(222.9052644334704, 241.24511332863017, 222.9052644334704);\n",
       "}\n",
       "#T_3aaa9_row3_col0 {\n",
       "  background-color: rgb(247.77562707647772, 251.9038401756333, 247.77562707647772);\n",
       "}\n",
       "#T_3aaa9_row4_col0 {\n",
       "  background-color: rgb(248.61194944390658, 252.26226404738853, 248.61194944390658);\n",
       "}\n",
       "#T_3aaa9_row5_col0 {\n",
       "  background-color: rgb(250.45285194578156, 253.0512222624778, 250.45285194578156);\n",
       "}\n",
       "#T_3aaa9_row6_col0 {\n",
       "  background-color: rgb(253.15186607192666, 254.2079426022543, 253.15186607192666);\n",
       "}\n",
       "</style>\n",
       "<table id=\"T_3aaa9\">\n",
       "  <thead>\n",
       "    <tr>\n",
       "      <th class=\"blank level0\" >&nbsp;</th>\n",
       "      <th id=\"T_3aaa9_level0_col0\" class=\"col_heading level0 col0\" >Score</th>\n",
       "      <th id=\"T_3aaa9_level0_col1\" class=\"col_heading level0 col1\" >Source</th>\n",
       "    </tr>\n",
       "  </thead>\n",
       "  <tbody>\n",
       "    <tr>\n",
       "      <th id=\"T_3aaa9_level0_row0\" class=\"row_heading level0 row0\" >0</th>\n",
       "      <td id=\"T_3aaa9_row0_col0\" class=\"data row0 col0\" >16.017</td>\n",
       "      <td id=\"T_3aaa9_row0_col1\" class=\"data row0 col1\" >The Transformer allows for significantly more parallelization and can reach a new state of the art in translation quality after being trained for as little as twelve hours on eight P100 GPUs.</td>\n",
       "    </tr>\n",
       "    <tr>\n",
       "      <th id=\"T_3aaa9_level0_row1\" class=\"row_heading level0 row1\" >1</th>\n",
       "      <td id=\"T_3aaa9_row1_col0\" class=\"data row1 col0\" >3.368</td>\n",
       "      <td id=\"T_3aaa9_row1_col1\" class=\"data row1 col1\" >Our model achieves 28.4 BLEU on the WMT 2014 English-to-German translation task, improving over the existing best results, including ensembles, by over 2 BLEU. On the WMT 2014 English-to-French translation task, our model establishes a new single-model state-of-the-art BLEU score of 41.8 after training for 3.5 days on eight GPUs, a small fraction of the training costs of the best models from the literature.</td>\n",
       "    </tr>\n",
       "    <tr>\n",
       "      <th id=\"T_3aaa9_level0_row2\" class=\"row_heading level0 row2\" >2</th>\n",
       "      <td id=\"T_3aaa9_row2_col0\" class=\"data row2 col0\" >2.937</td>\n",
       "      <td id=\"T_3aaa9_row2_col1\" class=\"data row2 col1\" >Experiments on two machine translation tasks show these models to be superior in quality while being more parallelizable and requiring significantly less time to train.</td>\n",
       "    </tr>\n",
       "    <tr>\n",
       "      <th id=\"T_3aaa9_level0_row3\" class=\"row_heading level0 row3\" >3</th>\n",
       "      <td id=\"T_3aaa9_row3_col0\" class=\"data row3 col0\" >0.661</td>\n",
       "      <td id=\"T_3aaa9_row3_col1\" class=\"data row3 col1\" >Attention mechanisms have become an integral part of compelling sequence modeling and transduction models in various tasks, allowing modeling of dependencies without regard to their distance in the input or output sequences [2, 19].</td>\n",
       "    </tr>\n",
       "    <tr>\n",
       "      <th id=\"T_3aaa9_level0_row4\" class=\"row_heading level0 row4\" >4</th>\n",
       "      <td id=\"T_3aaa9_row4_col0\" class=\"data row4 col0\" >0.585</td>\n",
       "      <td id=\"T_3aaa9_row4_col1\" class=\"data row4 col1\" >We propose a new simple network architecture, the Transformer, based solely on attention mechanisms, dispensing with recurrence and convolutions entirely.</td>\n",
       "    </tr>\n",
       "    <tr>\n",
       "      <th id=\"T_3aaa9_level0_row5\" class=\"row_heading level0 row5\" >5</th>\n",
       "      <td id=\"T_3aaa9_row5_col0\" class=\"data row5 col0\" >0.416</td>\n",
       "      <td id=\"T_3aaa9_row5_col1\" class=\"data row5 col1\" >Attention Is All You Need.</td>\n",
       "    </tr>\n",
       "    <tr>\n",
       "      <th id=\"T_3aaa9_level0_row6\" class=\"row_heading level0 row6\" >6</th>\n",
       "      <td id=\"T_3aaa9_row6_col0\" class=\"data row6 col0\" >0.169</td>\n",
       "      <td id=\"T_3aaa9_row6_col1\" class=\"data row6 col1\" >In all but a few cases [27], however, such attention mechanisms are used in conjunction with a recurrent network.</td>\n",
       "    </tr>\n",
       "  </tbody>\n",
       "</table>\n"
      ],
      "text/plain": [
       "<pandas.io.formats.style.Styler at 0x7506d42d7b50>"
      ]
     },
     "execution_count": 22,
     "metadata": {},
     "output_type": "execute_result"
    }
   ],
   "source": [
    "board"
   ]
  },
  {
   "cell_type": "code",
   "execution_count": null,
   "metadata": {},
   "outputs": [],
   "source": []
  }
 ],
 "metadata": {
  "kernelspec": {
   "display_name": "dd-chat",
   "language": "python",
   "name": "python3"
  },
  "language_info": {
   "codemirror_mode": {
    "name": "ipython",
    "version": 3
   },
   "file_extension": ".py",
   "mimetype": "text/x-python",
   "name": "python",
   "nbconvert_exporter": "python",
   "pygments_lexer": "ipython3",
   "version": "3.9.21"
  }
 },
 "nbformat": 4,
 "nbformat_minor": 2
}
