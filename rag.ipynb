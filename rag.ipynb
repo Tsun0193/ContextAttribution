{
 "cells": [
  {
   "cell_type": "code",
   "execution_count": 1,
   "metadata": {},
   "outputs": [
    {
     "name": "stdout",
     "output_type": "stream",
     "text": [
      "resource module not available on Windows\n"
     ]
    },
    {
     "name": "stderr",
     "output_type": "stream",
     "text": [
      "c:\\Users\\Tsunn\\miniconda3\\envs\\nlp\\Lib\\site-packages\\tqdm\\auto.py:21: TqdmWarning: IProgress not found. Please update jupyter and ipywidgets. See https://ipywidgets.readthedocs.io/en/stable/user_install.html\n",
      "  from .autonotebook import tqdm as notebook_tqdm\n"
     ]
    }
   ],
   "source": [
    "import os\n",
    "import openai\n",
    "import chromadb\n",
    "import nltk\n",
    "import warnings\n",
    "import nest_asyncio\n",
    "import re\n",
    "\n",
    "from llama_parse import LlamaParse\n",
    "from llama_index.core import Document, VectorStoreIndex, get_response_synthesizer, StorageContext, QueryBundle\n",
    "from llama_index.core.retrievers import VectorIndexRetriever, QueryFusionRetriever, BaseRetriever\n",
    "from llama_index.core.node_parser import SemanticSplitterNodeParser, SemanticDoubleMergingSplitterNodeParser, LanguageConfig\n",
    "from llama_index.core.evaluation import FaithfulnessEvaluator, RetrieverEvaluator\n",
    "from llama_index.core.schema import NodeWithScore\n",
    "from llama_index.core.query_engine import RetrieverQueryEngine\n",
    "from llama_index.core.postprocessor import SimilarityPostprocessor\n",
    "from llama_index.retrievers.bm25 import BM25Retriever\n",
    "from llama_index.embeddings.openai import OpenAIEmbedding\n",
    "from llama_index.llms import openai as OpenAI\n",
    "from llama_index.vector_stores.chroma import ChromaVectorStore\n",
    "from typing import Literal, List, Optional\n",
    "from dotenv import load_dotenv\n",
    "from tqdm.auto import tqdm\n",
    "from context_cite import ContextCiter"
   ]
  },
  {
   "cell_type": "code",
   "execution_count": 2,
   "metadata": {},
   "outputs": [],
   "source": [
    "load_dotenv()\n",
    "nest_asyncio.apply()\n",
    "warnings.filterwarnings(\"ignore\")"
   ]
  },
  {
   "cell_type": "code",
   "execution_count": 3,
   "metadata": {},
   "outputs": [],
   "source": [
    "openai.api_key = os.getenv(\"OPENAI_API_KEY\")\n",
    "    \n",
    "config = LanguageConfig(language=\"english\", spacy_model=\"en_core_web_md\") # must download the model first\n",
    "# chroma_client = chromadb.PersistentClient()\n",
    "\n",
    "embed_model = OpenAIEmbedding()\n",
    "\n",
    "\n",
    "splitter = SemanticDoubleMergingSplitterNodeParser(\n",
    "    initial_threshold=0.7,\n",
    "    appending_threshold=0.9,\n",
    "    merging_threshold=0.9,\n",
    "    language_config=config,\n",
    "    max_chunk_size=1024,\n",
    ")"
   ]
  },
  {
   "cell_type": "code",
   "execution_count": 4,
   "metadata": {},
   "outputs": [],
   "source": [
    "parser = LlamaParse(\n",
    "    api_key=os.getenv(\"LLAMACLOUD_API_KEY\"),\n",
    "    num_workers=8,\n",
    "    show_progress=True,\n",
    "    result_type=\"markdown\"\n",
    ")"
   ]
  },
  {
   "cell_type": "code",
   "execution_count": 24,
   "metadata": {},
   "outputs": [],
   "source": [
    "document = 'documents/attention.pdf'\n",
    "MODEL_NAME = \"Llama-3.2-1B-Instruct\"\n",
    "model_name = \"meta-llama/Llama-3.2-1B-Instruct\" # 3.2 1B Instruct for faster inference, 3.1 8B for better performance"
   ]
  },
  {
   "cell_type": "code",
   "execution_count": 5,
   "metadata": {},
   "outputs": [],
   "source": [
    "file = \"documents/sample.pdf\"\n",
    "if not os.path.exists(file):\n",
    "    raise FileNotFoundError(f\"File {file} not found\")"
   ]
  },
  {
   "cell_type": "code",
   "execution_count": 6,
   "metadata": {},
   "outputs": [
    {
     "name": "stdout",
     "output_type": "stream",
     "text": [
      "Started parsing the file under job_id b0703cfb-3b25-48ce-920b-06e302337f02\n"
     ]
    }
   ],
   "source": [
    "documents = parser.load_data(file)"
   ]
  },
  {
   "cell_type": "code",
   "execution_count": 8,
   "metadata": {},
   "outputs": [
    {
     "name": "stderr",
     "output_type": "stream",
     "text": [
      "Parsing nodes: 100%|██████████| 6/6 [00:04<00:00,  1.39it/s]\n"
     ]
    }
   ],
   "source": [
    "nodes = splitter.get_nodes_from_documents(documents, show_progress=True)"
   ]
  },
  {
   "cell_type": "code",
   "execution_count": 12,
   "metadata": {},
   "outputs": [
    {
     "name": "stdout",
     "output_type": "stream",
     "text": [
      "Splitted 156 nodes from 6 documents\n"
     ]
    }
   ],
   "source": [
    "print(f\"Splitted {len(nodes)} nodes from {len(documents)} documents\")"
   ]
  },
  {
   "cell_type": "code",
   "execution_count": 13,
   "metadata": {},
   "outputs": [
    {
     "name": "stderr",
     "output_type": "stream",
     "text": [
      "Generating embeddings: 100%|██████████| 156/156 [00:05<00:00, 28.08it/s]\n"
     ]
    }
   ],
   "source": [
    "storage_context = StorageContext.from_defaults()\n",
    "storage_context.docstore.add_documents(nodes)\n",
    "vector_index = VectorStoreIndex(nodes=nodes, \n",
    "                         insert_batch_size=1024, \n",
    "                         storage_context=storage_context,\n",
    "                         show_progress=True)                                                          "
   ]
  },
  {
   "cell_type": "code",
   "execution_count": 15,
   "metadata": {},
   "outputs": [],
   "source": [
    "dense_retriever = VectorIndexRetriever(index=vector_index, similarity_top_k=5)\n",
    "sparse_retriever = BM25Retriever.from_defaults(nodes=nodes, similarity_top_k=5)\n",
    "\n",
    "res_synth = get_response_synthesizer()"
   ]
  },
  {
   "cell_type": "code",
   "execution_count": 16,
   "metadata": {},
   "outputs": [],
   "source": [
    "class HybridRetriever(BaseRetriever):\n",
    "    def __init__(self, dense_retriever: BaseRetriever = dense_retriever, \n",
    "                 sparse_retriever: BaseRetriever = sparse_retriever,\n",
    "                 mode: Literal[\"AND\", \"OR\"] = \"OR\",\n",
    "                 **kwargs) -> None:\n",
    "        self.dense_retriever = dense_retriever\n",
    "        self.sparse_retriever = sparse_retriever\n",
    "        self.mode = mode\n",
    "\n",
    "        super().__init__(**kwargs)\n",
    "\n",
    "    def _retrieve(self, query_bundle: QueryBundle) -> List[NodeWithScore]:\n",
    "        dense_res = self.dense_retriever.retrieve(query_bundle)\n",
    "        sparse_res = self.sparse_retriever.retrieve(query_bundle)\n",
    "\n",
    "        dense_ids = {n.node.node_id for n in dense_res}\n",
    "        sparse_ids = {n.node.node_id for n in sparse_res}\n",
    "\n",
    "        combined_ids = {n.node.node_id: n for n in dense_res}\n",
    "        combined_ids.update({n.node.node_id: n for n in sparse_res})\n",
    "\n",
    "        if self.mode == \"AND\":\n",
    "            ids = dense_ids.intersection(sparse_ids)\n",
    "\n",
    "        elif self.mode == \"OR\":\n",
    "            ids = dense_ids.union(sparse_ids)\n",
    "\n",
    "        else:\n",
    "            raise ValueError(\"Invalid mode. Must be either 'AND' or 'OR'.\")\n",
    "        \n",
    "        retrieved_nodes = [combined_ids[id] for id in ids]\n",
    "        return retrieved_nodes"
   ]
  },
  {
   "cell_type": "code",
   "execution_count": 17,
   "metadata": {},
   "outputs": [],
   "source": [
    "hybrid_retriever = HybridRetriever(dense_retriever=dense_retriever, sparse_retriever=sparse_retriever)"
   ]
  },
  {
   "cell_type": "code",
   "execution_count": 18,
   "metadata": {},
   "outputs": [],
   "source": [
    "query_engine = RetrieverQueryEngine(retriever=hybrid_retriever, response_synthesizer=res_synth)"
   ]
  },
  {
   "cell_type": "code",
   "execution_count": 19,
   "metadata": {},
   "outputs": [
    {
     "data": {
      "text/plain": [
       "Response(response='printf in C stands for \"print formatted\".', source_nodes=[NodeWithScore(node=TextNode(id_='8cdc46eb-de13-4eb3-af4e-fb13d6ff2e68', embedding=None, metadata={}, excluded_embed_metadata_keys=[], excluded_llm_metadata_keys=[], relationships={<NodeRelationship.SOURCE: '1'>: RelatedNodeInfo(node_id='0e7a93df-d3b6-4964-aaa4-2f0b191edea7', node_type='4', metadata={}, hash='0e21741e5655b2140ca5424d788011fde501d9208075dbc9f3fbbe54b3e7d3dc'), <NodeRelationship.PREVIOUS: '2'>: RelatedNodeInfo(node_id='9fcf1dbb-70b8-4f53-bcb1-c4aa77e9411d', node_type='1', metadata={}, hash='da3b31ba797dbe383339b6c38060c118d5b5ee9df02cea39375730dcef134c3a'), <NodeRelationship.NEXT: '3'>: RelatedNodeInfo(node_id='9b98ef09-a3b6-400a-888b-6534d2c645f4', node_type='1', metadata={}, hash='7f5e520fd1f480c7fc6a6e39a67447d4d64372b4352c6d41aa202d14f38eb4eb')}, metadata_template='{key}: {value}', metadata_separator='\\n', text='The example program from the book prints \"hello, world\", and was inherited from a 1974 Bell Laboratories internal memorandum by Brian Kernighan, Programming in C: A Tutorial*:3\\n\\nmain( ) {\\nprintf(\"hello, world\");\\n}\\n\\nIn the above example, the main( ) function defines where the \"Hello, World!\"', mimetype='text/plain', start_char_idx=897, end_char_idx=1188, metadata_seperator='\\n', text_template='{metadata_str}\\n\\n{content}'), score=0.8385149836540222), NodeWithScore(node=TextNode(id_='12d0da83-37d2-483e-a44e-4ac905cbedad', embedding=None, metadata={}, excluded_embed_metadata_keys=[], excluded_llm_metadata_keys=[], relationships={<NodeRelationship.SOURCE: '1'>: RelatedNodeInfo(node_id='0e7a93df-d3b6-4964-aaa4-2f0b191edea7', node_type='4', metadata={}, hash='0e21741e5655b2140ca5424d788011fde501d9208075dbc9f3fbbe54b3e7d3dc'), <NodeRelationship.PREVIOUS: '2'>: RelatedNodeInfo(node_id='cabb811e-c14c-4aea-8bb3-1a1d28522dc8', node_type='1', metadata={}, hash='df52a54b3ccbd0ec9ba10bbc4065e5efafff74e29ef312976bfb9ce83eccbfe9'), <NodeRelationship.NEXT: '3'>: RelatedNodeInfo(node_id='b25c4c57-b811-49ff-9909-b89f402edf20', node_type='1', metadata={}, hash='73f2fde1c4dd867927506d34905e7e483656da68ec8b223126c89b9f8d9e6d73')}, metadata_template='{key}: {value}', metadata_separator='\\n', text=\"*n');\\n}\\na 'hell';\\nb 'o, w';\\nc 'orld';\\n\\nThe program above prints hello, world!\", mimetype='text/plain', start_char_idx=1755, end_char_idx=1832, metadata_seperator='\\n', text_template='{metadata_str}\\n\\n{content}'), score=0.8095333007219218), NodeWithScore(node=TextNode(id_='cabb811e-c14c-4aea-8bb3-1a1d28522dc8', embedding=None, metadata={}, excluded_embed_metadata_keys=[], excluded_llm_metadata_keys=[], relationships={<NodeRelationship.SOURCE: '1'>: RelatedNodeInfo(node_id='0e7a93df-d3b6-4964-aaa4-2f0b191edea7', node_type='4', metadata={}, hash='0e21741e5655b2140ca5424d788011fde501d9208075dbc9f3fbbe54b3e7d3dc'), <NodeRelationship.PREVIOUS: '2'>: RelatedNodeInfo(node_id='9b98ef09-a3b6-400a-888b-6534d2c645f4', node_type='1', metadata={}, hash='7f5e520fd1f480c7fc6a6e39a67447d4d64372b4352c6d41aa202d14f38eb4eb'), <NodeRelationship.NEXT: '3'>: RelatedNodeInfo(node_id='12d0da83-37d2-483e-a44e-4ac905cbedad', node_type='1', metadata={}, hash='2036882499f36a3d94a801aa6617ac45bfbc45247f59f32b1b5f6415b435e302')}, metadata_template='{key}: {value}', metadata_separator='\\n', text='The function body consists of a single statement, a call to the printf() function, which stands for \"print formatted\"; it outputs to the console whatever is passed to it as the parameter, in this case the string \"hello, world\". The C-language version was preceded by Kernighan\\'s own 1972 *A Tutorial Introduction to the Language B*,4 where the first known version of the program is found in an example used to illustrate external variables:\\n\\nmain( ) {\\nextrn a, b, c;\\nputchar(a); putchar(b); putchar(c); putchar(\\'!', mimetype='text/plain', start_char_idx=None, end_char_idx=None, metadata_seperator='\\n', text_template='{metadata_str}\\n\\n{content}'), score=0.5951758027076721), NodeWithScore(node=TextNode(id_='e3d08410-bc66-4a79-b82d-c349d0f23819', embedding=None, metadata={}, excluded_embed_metadata_keys=[], excluded_llm_metadata_keys=[], relationships={<NodeRelationship.SOURCE: '1'>: RelatedNodeInfo(node_id='5be4e8ae-f645-4aad-81a0-d2676d4afded', node_type='4', metadata={}, hash='7281de5e65e0e3f21640a18ddd2b4d8ebaa323e2f4c8ee0944d16d88f714d3b6'), <NodeRelationship.PREVIOUS: '2'>: RelatedNodeInfo(node_id='ec08e1cc-a6a8-406f-96c9-8daff3221fc0', node_type='1', metadata={}, hash='dd59246a7eea58eab3f539ccf36db5ef9c2026206c0dd0d7ffd4ff38b291f79a'), <NodeRelationship.NEXT: '3'>: RelatedNodeInfo(node_id='587daba6-3d26-41b0-b655-a10832c9a65b', node_type='1', metadata={}, hash='17d035803d75d0e18114e106a8da26412deaa5326652a138e21a171983fe12aa')}, metadata_template='{key}: {value}', metadata_separator='\\n', text='Retrieved 23 August 2014.', mimetype='text/plain', start_char_idx=1122, end_char_idx=1147, metadata_seperator='\\n', text_template='{metadata_str}\\n\\n{content}'), score=0.0), NodeWithScore(node=TextNode(id_='eaa7b292-ffe8-4d70-b168-a7eeff2cb712', embedding=None, metadata={}, excluded_embed_metadata_keys=[], excluded_llm_metadata_keys=[], relationships={<NodeRelationship.SOURCE: '1'>: RelatedNodeInfo(node_id='80ab4029-b757-4ba1-8b4f-c08d9642540e', node_type='4', metadata={}, hash='450dc31e630cb4ccdc9e9a0423fb3adc410c465d1e0e1912589228578e6410f6'), <NodeRelationship.PREVIOUS: '2'>: RelatedNodeInfo(node_id='1ffc9281-275c-4591-84d3-f19d303ac637', node_type='1', metadata={}, hash='7943a12aa0712d8090b3873449d5220c967d644c2a0e4bcbc45c56b5a6480ecd'), <NodeRelationship.NEXT: '3'>: RelatedNodeInfo(node_id='54ff1cbe-9f7b-42dc-aa2b-d57d33a5bb23', node_type='1', metadata={}, hash='c3666d355ee145aa8cbd04a051d5f450f274af5914182dffed2de28f11fa8912')}, metadata_template='{key}: {value}', metadata_separator='\\n', text='In contrast, the equivalent code in C++7 requires the import of the input/output (I/O) software library, the manual declaration of an entry point, and the explicit instruction that the output string should be sent to the standard output stream.', mimetype='text/plain', start_char_idx=799, end_char_idx=1043, metadata_seperator='\\n', text_template='{metadata_str}\\n\\n{content}'), score=0.8067196243605422), NodeWithScore(node=TextNode(id_='587daba6-3d26-41b0-b655-a10832c9a65b', embedding=None, metadata={}, excluded_embed_metadata_keys=[], excluded_llm_metadata_keys=[], relationships={<NodeRelationship.SOURCE: '1'>: RelatedNodeInfo(node_id='5be4e8ae-f645-4aad-81a0-d2676d4afded', node_type='4', metadata={}, hash='7281de5e65e0e3f21640a18ddd2b4d8ebaa323e2f4c8ee0944d16d88f714d3b6'), <NodeRelationship.PREVIOUS: '2'>: RelatedNodeInfo(node_id='e3d08410-bc66-4a79-b82d-c349d0f23819', node_type='1', metadata={}, hash='5aceaa65495e4aec84b5d2034bc98a3b0dcd209ab6c29f23c1ae273525aa0b96')}, metadata_template='{key}: {value}', metadata_separator='\\n', text='Retrieved from https://en.wikipedia.org/w/index.php?title=%22Hello,_World!%22_program&oldid=1274895481', mimetype='text/plain', start_char_idx=1149, end_char_idx=1251, metadata_seperator='\\n', text_template='{metadata_str}\\n\\n{content}'), score=0.0), NodeWithScore(node=TextNode(id_='04e4711c-645b-4705-8412-297cc1fdf699', embedding=None, metadata={}, excluded_embed_metadata_keys=[], excluded_llm_metadata_keys=[], relationships={<NodeRelationship.SOURCE: '1'>: RelatedNodeInfo(node_id='5be4e8ae-f645-4aad-81a0-d2676d4afded', node_type='4', metadata={}, hash='7281de5e65e0e3f21640a18ddd2b4d8ebaa323e2f4c8ee0944d16d88f714d3b6'), <NodeRelationship.PREVIOUS: '2'>: RelatedNodeInfo(node_id='735f185d-dee6-44b5-bb57-3b500436e3f3', node_type='1', metadata={}, hash='133890adeb5751af16b25aafc46442c5134fdd7c67201059a7c43761edea6302'), <NodeRelationship.NEXT: '3'>: RelatedNodeInfo(node_id='a578bd2c-8ffb-4e9b-8b83-72d318101d9e', node_type='1', metadata={}, hash='ec33d5af67c1f45e55be0d7c25aaf1e7c4cd9ad5442a6b936fa96da3f286032a')}, metadata_template='{key}: {value}', metadata_separator='\\n', text='- \"Unsung Heroes of IT: Part One: Brian Kernighan\".', mimetype='text/plain', start_char_idx=957, end_char_idx=1008, metadata_seperator='\\n', text_template='{metadata_str}\\n\\n{content}'), score=0.0), NodeWithScore(node=TextNode(id_='249edfb6-acd7-46c7-af6d-057f5107423e', embedding=None, metadata={}, excluded_embed_metadata_keys=[], excluded_llm_metadata_keys=[], relationships={<NodeRelationship.SOURCE: '1'>: RelatedNodeInfo(node_id='80d85ded-e816-4cb5-8df3-6c4d2202f3d5', node_type='4', metadata={}, hash='d364b86c1eda48f57328591fea539d30e060716bac2077fd8d2c393536542676'), <NodeRelationship.PREVIOUS: '2'>: RelatedNodeInfo(node_id='0d046c28-0474-4cba-be9c-4d5dd4dc91fa', node_type='1', metadata={}, hash='2b8af945f7d84969c07a6d76665c1b80af9fc4cc4284b10c46d8a9befd515420'), <NodeRelationship.NEXT: '3'>: RelatedNodeInfo(node_id='bc5a753b-7cdf-40da-a4f9-2d79ce453a5e', node_type='1', metadata={}, hash='e7d95915c74f07f336d0a1713e1aba7c807f6605a19cfd0cea87563101c60b2e')}, metadata_template='{key}: {value}', metadata_separator='\\n', text='\"Programming in C: A Tutorial\" (PDF).', mimetype='text/plain', start_char_idx=1657, end_char_idx=1694, metadata_seperator='\\n', text_template='{metadata_str}\\n\\n{content}'), score=0.8179255610443767)], metadata={'8cdc46eb-de13-4eb3-af4e-fb13d6ff2e68': {}, '12d0da83-37d2-483e-a44e-4ac905cbedad': {}, 'cabb811e-c14c-4aea-8bb3-1a1d28522dc8': {}, 'e3d08410-bc66-4a79-b82d-c349d0f23819': {}, 'eaa7b292-ffe8-4d70-b168-a7eeff2cb712': {}, '587daba6-3d26-41b0-b655-a10832c9a65b': {}, '04e4711c-645b-4705-8412-297cc1fdf699': {}, '249edfb6-acd7-46c7-af6d-057f5107423e': {}})"
      ]
     },
     "execution_count": 19,
     "metadata": {},
     "output_type": "execute_result"
    }
   ],
   "source": [
    "res = query_engine.query(\"What does printf mean in C?\")\n",
    "res"
   ]
  },
  {
   "cell_type": "code",
   "execution_count": null,
   "metadata": {},
   "outputs": [
    {
     "name": "stdout",
     "output_type": "stream",
     "text": [
      "The example program from the book prints \"hello, world\", and was inherited from a 1974 Bell Laboratories internal memorandum by Brian Kernighan, Programming in C: A Tutorial*:3\n",
      "\n",
      "main( ) {\n",
      "printf(\"hello, world\");\n",
      "}\n",
      "\n",
      "In the above example, the main( ) function defines where the \"Hello, World!\"\n",
      "----\n",
      "*n');\n",
      "}\n",
      "a 'hell';\n",
      "b 'o, w';\n",
      "c 'orld';\n",
      "\n",
      "The program above prints hello, world!\n",
      "----\n",
      "The function body consists of a single statement, a call to the printf() function, which stands for \"print formatted\"; it outputs to the console whatever is passed to it as the parameter, in this case the string \"hello, world\". The C-language version was preceded by Kernighan's own 1972 *A Tutorial Introduction to the Language B*,4 where the first known version of the program is found in an example used to illustrate external variables:\n",
      "\n",
      "main( ) {\n",
      "extrn a, b, c;\n",
      "putchar(a); putchar(b); putchar(c); putchar('!\n",
      "----\n",
      "Retrieved 23 August 2014.\n",
      "----\n",
      "In contrast, the equivalent code in C++7 requires the import of the input/output (I/O) software library, the manual declaration of an entry point, and the explicit instruction that the output string should be sent to the standard output stream.\n",
      "----\n",
      "Retrieved from https://en.wikipedia.org/w/index.php?title=%22Hello,_World!%22_program&oldid=1274895481\n",
      "----\n",
      "- \"Unsung Heroes of IT: Part One: Brian Kernighan\".\n",
      "----\n",
      "\"Programming in C: A Tutorial\" (PDF).\n",
      "----\n"
     ]
    }
   ],
   "source": [
    "snodes = res.source_nodes\n",
    "for sn in snodes:\n",
    "    print(sn.text)\n",
    "    print(\"----\")"
   ]
  },
  {
   "cell_type": "code",
   "execution_count": null,
   "metadata": {},
   "outputs": [],
   "source": [
    "def rerank(query, nodes,\n",
    "           model=model_name,\n",
    "           top_k=5):\n",
    "    context = \"\\n\\n\".join([node.node.get_content() for node in nodes])\n",
    "    \n",
    "    cc = ContextCiter.from_pretrained(\n",
    "        model_name,\n",
    "        context=context,\n",
    "        query=query,\n",
    "        device=\"cuda\"\n",
    "    )\n",
    "\n",
    "    attributions_df = cc.get_attributions(as_dataframe=False, top_k=len(nodes))\n",
    "    segments = cc.partitioner.sources\n",
    "    "
   ]
  },
  {
   "cell_type": "code",
   "execution_count": null,
   "metadata": {},
   "outputs": [],
   "source": [
    "def ee_query(query):\n",
    "    global query_engine\n",
    "    if query_engine is None:\n",
    "        return \"Query engine not initialized, please upload a document first\"\n",
    "    \n",
    "    nodes = query_engine.retriever.retrieve(QueryBundle(query=query))\n",
    "    context = \"\\n\\n\".join([node.node.get_content() for node in nodes])\n",
    "\n",
    "    cc = ContextCiter.from_pretrained(\n",
    "        model_name,\n",
    "        context=context,\n",
    "        query=query,\n",
    "        device=\"cuda\"\n",
    "    )\n",
    "\n",
    "    response = cc.response\n",
    "    attributions = cc.attributions("
   ]
  }
 ],
 "metadata": {
  "kernelspec": {
   "display_name": "nlp",
   "language": "python",
   "name": "python3"
  },
  "language_info": {
   "codemirror_mode": {
    "name": "ipython",
    "version": 3
   },
   "file_extension": ".py",
   "mimetype": "text/x-python",
   "name": "python",
   "nbconvert_exporter": "python",
   "pygments_lexer": "ipython3",
   "version": "3.12.9"
  }
 },
 "nbformat": 4,
 "nbformat_minor": 2
}
