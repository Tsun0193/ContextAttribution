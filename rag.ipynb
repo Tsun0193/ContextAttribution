{
 "cells": [
  {
   "cell_type": "code",
   "execution_count": null,
   "metadata": {},
   "outputs": [
    {
     "name": "stdout",
     "output_type": "stream",
     "text": [
      "resource module not available on Windows\n"
     ]
    },
    {
     "name": "stderr",
     "output_type": "stream",
     "text": [
      "c:\\Users\\Tsunn\\miniconda3\\envs\\nlp\\Lib\\site-packages\\tqdm\\auto.py:21: TqdmWarning: IProgress not found. Please update jupyter and ipywidgets. See https://ipywidgets.readthedocs.io/en/stable/user_install.html\n",
      "  from .autonotebook import tqdm as notebook_tqdm\n"
     ]
    }
   ],
   "source": [
    "import os\n",
    "import openai\n",
    "import chromadb\n",
    "import warnings\n",
    "import nest_asyncio\n",
    "import re\n",
    "\n",
    "from llama_parse import LlamaParse\n",
    "from llama_index.core import Document, VectorStoreIndex, get_response_synthesizer, StorageContext, QueryBundle\n",
    "from llama_index.core.retrievers import VectorIndexRetriever, BaseRetriever\n",
    "from llama_index.core.node_parser import SemanticDoubleMergingSplitterNodeParser, LanguageConfig\n",
    "from llama_index.core.schema import NodeWithScore\n",
    "from llama_index.core.query_engine import RetrieverQueryEngine\n",
    "from llama_index.retrievers.bm25 import BM25Retriever\n",
    "from llama_index.embeddings.openai import OpenAIEmbedding\n",
    "from llama_index.vector_stores.chroma import ChromaVectorStore\n",
    "from typing import Literal, List, Optional\n",
    "from dotenv import load_dotenv\n",
    "from tqdm.auto import tqdm\n",
    "from context_cite import ContextCiter"
   ]
  },
  {
   "cell_type": "code",
   "execution_count": 2,
   "metadata": {},
   "outputs": [],
   "source": [
    "load_dotenv()\n",
    "nest_asyncio.apply()\n",
    "warnings.filterwarnings(\"ignore\")"
   ]
  },
  {
   "cell_type": "code",
   "execution_count": 3,
   "metadata": {},
   "outputs": [],
   "source": [
    "openai.api_key = os.getenv(\"OPENAI_API_KEY\")\n",
    "    \n",
    "config = LanguageConfig(language=\"english\", spacy_model=\"en_core_web_md\") # must download the model first\n",
    "# chroma_client = chromadb.PersistentClient()\n",
    "\n",
    "embed_model = OpenAIEmbedding()\n",
    "\n",
    "\n",
    "splitter = SemanticDoubleMergingSplitterNodeParser(\n",
    "    initial_threshold=0.7,\n",
    "    appending_threshold=0.9,\n",
    "    merging_threshold=0.9,\n",
    "    language_config=config,\n",
    "    max_chunk_size=1024,\n",
    ")"
   ]
  },
  {
   "cell_type": "code",
   "execution_count": 4,
   "metadata": {},
   "outputs": [],
   "source": [
    "parser = LlamaParse(\n",
    "    api_key=os.getenv(\"LLAMACLOUD_API_KEY\"),\n",
    "    num_workers=8,\n",
    "    show_progress=True,\n",
    "    result_type=\"markdown\"\n",
    ")"
   ]
  },
  {
   "cell_type": "code",
   "execution_count": 5,
   "metadata": {},
   "outputs": [],
   "source": [
    "document = 'documents/attention.pdf'\n",
    "MODEL_NAME = \"Llama-3.2-1B-Instruct\"\n",
    "model_name = \"meta-llama/Llama-3.2-1B-Instruct\" # 3.2 1B Instruct for faster inference, 3.1 8B for better performance"
   ]
  },
  {
   "cell_type": "code",
   "execution_count": 6,
   "metadata": {},
   "outputs": [],
   "source": [
    "file = \"documents/sample.pdf\"\n",
    "if not os.path.exists(file):\n",
    "    raise FileNotFoundError(f\"File {file} not found\")"
   ]
  },
  {
   "cell_type": "code",
   "execution_count": 7,
   "metadata": {},
   "outputs": [
    {
     "name": "stdout",
     "output_type": "stream",
     "text": [
      "Started parsing the file under job_id 7d8f1997-7ffc-4e1f-8a29-105941ae2698\n"
     ]
    }
   ],
   "source": [
    "documents = parser.load_data(file)"
   ]
  },
  {
   "cell_type": "code",
   "execution_count": 8,
   "metadata": {},
   "outputs": [
    {
     "name": "stderr",
     "output_type": "stream",
     "text": [
      "Parsing nodes: 100%|██████████| 6/6 [00:04<00:00,  1.20it/s]\n"
     ]
    }
   ],
   "source": [
    "nodes = splitter.get_nodes_from_documents(documents, show_progress=True)"
   ]
  },
  {
   "cell_type": "code",
   "execution_count": 9,
   "metadata": {},
   "outputs": [
    {
     "name": "stdout",
     "output_type": "stream",
     "text": [
      "Splitted 156 nodes from 6 documents\n"
     ]
    }
   ],
   "source": [
    "print(f\"Splitted {len(nodes)} nodes from {len(documents)} documents\")"
   ]
  },
  {
   "cell_type": "code",
   "execution_count": 10,
   "metadata": {},
   "outputs": [
    {
     "name": "stderr",
     "output_type": "stream",
     "text": [
      "Generating embeddings: 100%|██████████| 156/156 [00:04<00:00, 31.97it/s]\n"
     ]
    }
   ],
   "source": [
    "storage_context = StorageContext.from_defaults()\n",
    "storage_context.docstore.add_documents(nodes)\n",
    "vector_index = VectorStoreIndex(nodes=nodes, \n",
    "                         insert_batch_size=1024, \n",
    "                         storage_context=storage_context,\n",
    "                         show_progress=True)                                                          "
   ]
  },
  {
   "cell_type": "code",
   "execution_count": 11,
   "metadata": {},
   "outputs": [],
   "source": [
    "dense_retriever = VectorIndexRetriever(index=vector_index, similarity_top_k=5)\n",
    "sparse_retriever = BM25Retriever.from_defaults(nodes=nodes, similarity_top_k=5)\n",
    "\n",
    "res_synth = get_response_synthesizer()"
   ]
  },
  {
   "cell_type": "code",
   "execution_count": 12,
   "metadata": {},
   "outputs": [],
   "source": [
    "class HybridRetriever(BaseRetriever):\n",
    "    def __init__(self, dense_retriever: BaseRetriever = dense_retriever, \n",
    "                 sparse_retriever: BaseRetriever = sparse_retriever,\n",
    "                 mode: Literal[\"AND\", \"OR\"] = \"OR\",\n",
    "                 **kwargs) -> None:\n",
    "        self.dense_retriever = dense_retriever\n",
    "        self.sparse_retriever = sparse_retriever\n",
    "        self.mode = mode\n",
    "\n",
    "        super().__init__(**kwargs)\n",
    "\n",
    "    def _retrieve(self, query_bundle: QueryBundle) -> List[NodeWithScore]:\n",
    "        dense_res = self.dense_retriever.retrieve(query_bundle)\n",
    "        sparse_res = self.sparse_retriever.retrieve(query_bundle)\n",
    "\n",
    "        dense_ids = {n.node.node_id for n in dense_res}\n",
    "        sparse_ids = {n.node.node_id for n in sparse_res}\n",
    "\n",
    "        combined_ids = {n.node.node_id: n for n in dense_res}\n",
    "        combined_ids.update({n.node.node_id: n for n in sparse_res})\n",
    "\n",
    "        if self.mode == \"AND\":\n",
    "            ids = dense_ids.intersection(sparse_ids)\n",
    "\n",
    "        elif self.mode == \"OR\":\n",
    "            ids = dense_ids.union(sparse_ids)\n",
    "\n",
    "        else:\n",
    "            raise ValueError(\"Invalid mode. Must be either 'AND' or 'OR'.\")\n",
    "        \n",
    "        retrieved_nodes = [combined_ids[id] for id in ids]\n",
    "        return retrieved_nodes"
   ]
  },
  {
   "cell_type": "code",
   "execution_count": 13,
   "metadata": {},
   "outputs": [],
   "source": [
    "hybrid_retriever = HybridRetriever(dense_retriever=dense_retriever, sparse_retriever=sparse_retriever)"
   ]
  },
  {
   "cell_type": "code",
   "execution_count": 14,
   "metadata": {},
   "outputs": [],
   "source": [
    "query_engine = RetrieverQueryEngine(retriever=hybrid_retriever, response_synthesizer=res_synth)"
   ]
  },
  {
   "cell_type": "code",
   "execution_count": 15,
   "metadata": {},
   "outputs": [
    {
     "data": {
      "text/plain": [
       "Response(response='printf in C stands for \"print formatted\".', source_nodes=[NodeWithScore(node=TextNode(id_='50e7c3ce-a0c0-48ca-9767-ddf41e899358', embedding=None, metadata={}, excluded_embed_metadata_keys=[], excluded_llm_metadata_keys=[], relationships={<NodeRelationship.SOURCE: '1'>: RelatedNodeInfo(node_id='5a26bf52-9137-434e-9a39-c42c62ac00fd', node_type='4', metadata={}, hash='0e21741e5655b2140ca5424d788011fde501d9208075dbc9f3fbbe54b3e7d3dc'), <NodeRelationship.PREVIOUS: '2'>: RelatedNodeInfo(node_id='5169b0a8-8c22-4b01-9767-dd8f51517729', node_type='1', metadata={}, hash='7f5e520fd1f480c7fc6a6e39a67447d4d64372b4352c6d41aa202d14f38eb4eb'), <NodeRelationship.NEXT: '3'>: RelatedNodeInfo(node_id='5f06cff0-f8f0-4d84-8a73-8fa02fce6b24', node_type='1', metadata={}, hash='2036882499f36a3d94a801aa6617ac45bfbc45247f59f32b1b5f6415b435e302')}, metadata_template='{key}: {value}', metadata_separator='\\n', text='The function body consists of a single statement, a call to the printf() function, which stands for \"print formatted\"; it outputs to the console whatever is passed to it as the parameter, in this case the string \"hello, world\". The C-language version was preceded by Kernighan\\'s own 1972 *A Tutorial Introduction to the Language B*,4 where the first known version of the program is found in an example used to illustrate external variables:\\n\\nmain( ) {\\nextrn a, b, c;\\nputchar(a); putchar(b); putchar(c); putchar(\\'!', mimetype='text/plain', start_char_idx=None, end_char_idx=None, metadata_seperator='\\n', text_template='{metadata_str}\\n\\n{content}'), score=0.5951758027076721), NodeWithScore(node=TextNode(id_='5f06cff0-f8f0-4d84-8a73-8fa02fce6b24', embedding=None, metadata={}, excluded_embed_metadata_keys=[], excluded_llm_metadata_keys=[], relationships={<NodeRelationship.SOURCE: '1'>: RelatedNodeInfo(node_id='5a26bf52-9137-434e-9a39-c42c62ac00fd', node_type='4', metadata={}, hash='0e21741e5655b2140ca5424d788011fde501d9208075dbc9f3fbbe54b3e7d3dc'), <NodeRelationship.PREVIOUS: '2'>: RelatedNodeInfo(node_id='50e7c3ce-a0c0-48ca-9767-ddf41e899358', node_type='1', metadata={}, hash='df52a54b3ccbd0ec9ba10bbc4065e5efafff74e29ef312976bfb9ce83eccbfe9'), <NodeRelationship.NEXT: '3'>: RelatedNodeInfo(node_id='35b042d4-33dc-4591-aafa-887946bd7e82', node_type='1', metadata={}, hash='73f2fde1c4dd867927506d34905e7e483656da68ec8b223126c89b9f8d9e6d73')}, metadata_template='{key}: {value}', metadata_separator='\\n', text=\"*n');\\n}\\na 'hell';\\nb 'o, w';\\nc 'orld';\\n\\nThe program above prints hello, world!\", mimetype='text/plain', start_char_idx=1755, end_char_idx=1832, metadata_seperator='\\n', text_template='{metadata_str}\\n\\n{content}'), score=0.8095539105073694), NodeWithScore(node=TextNode(id_='c5a22166-29ca-45a3-a7a4-38220c4dc892', embedding=None, metadata={}, excluded_embed_metadata_keys=[], excluded_llm_metadata_keys=[], relationships={<NodeRelationship.SOURCE: '1'>: RelatedNodeInfo(node_id='00199927-7f8f-47a2-b218-0c81cf059e39', node_type='4', metadata={}, hash='450dc31e630cb4ccdc9e9a0423fb3adc410c465d1e0e1912589228578e6410f6'), <NodeRelationship.PREVIOUS: '2'>: RelatedNodeInfo(node_id='cc54898d-ea31-4ef2-97ec-efb89bdff63f', node_type='1', metadata={}, hash='7943a12aa0712d8090b3873449d5220c967d644c2a0e4bcbc45c56b5a6480ecd'), <NodeRelationship.NEXT: '3'>: RelatedNodeInfo(node_id='f2fc6efb-5117-47e6-8c5d-06cf7f9426f5', node_type='1', metadata={}, hash='c3666d355ee145aa8cbd04a051d5f450f274af5914182dffed2de28f11fa8912')}, metadata_template='{key}: {value}', metadata_separator='\\n', text='In contrast, the equivalent code in C++7 requires the import of the input/output (I/O) software library, the manual declaration of an entry point, and the explicit instruction that the output string should be sent to the standard output stream.', mimetype='text/plain', start_char_idx=799, end_char_idx=1043, metadata_seperator='\\n', text_template='{metadata_str}\\n\\n{content}'), score=0.8066814654342456), NodeWithScore(node=TextNode(id_='b21d08eb-249a-4c2f-9680-ec8f2b1fc9f7', embedding=None, metadata={}, excluded_embed_metadata_keys=[], excluded_llm_metadata_keys=[], relationships={<NodeRelationship.SOURCE: '1'>: RelatedNodeInfo(node_id='7b1bfdc2-ad51-477f-9b9d-889c38436d4c', node_type='4', metadata={}, hash='d364b86c1eda48f57328591fea539d30e060716bac2077fd8d2c393536542676'), <NodeRelationship.PREVIOUS: '2'>: RelatedNodeInfo(node_id='28ae1e72-9000-40db-b53a-e17788e8978c', node_type='1', metadata={}, hash='2b8af945f7d84969c07a6d76665c1b80af9fc4cc4284b10c46d8a9befd515420'), <NodeRelationship.NEXT: '3'>: RelatedNodeInfo(node_id='e7dafdfa-1e1d-451e-869a-bb5e867e324e', node_type='1', metadata={}, hash='e7d95915c74f07f336d0a1713e1aba7c807f6605a19cfd0cea87563101c60b2e')}, metadata_template='{key}: {value}', metadata_separator='\\n', text='\"Programming in C: A Tutorial\" (PDF).', mimetype='text/plain', start_char_idx=1657, end_char_idx=1694, metadata_seperator='\\n', text_template='{metadata_str}\\n\\n{content}'), score=0.8179730545227366), NodeWithScore(node=TextNode(id_='63336793-a511-4546-a6f5-cbbdee9f1aed', embedding=None, metadata={}, excluded_embed_metadata_keys=[], excluded_llm_metadata_keys=[], relationships={<NodeRelationship.SOURCE: '1'>: RelatedNodeInfo(node_id='b4eaee27-8ab9-43aa-9eb3-833145fb3b80', node_type='4', metadata={}, hash='7281de5e65e0e3f21640a18ddd2b4d8ebaa323e2f4c8ee0944d16d88f714d3b6'), <NodeRelationship.PREVIOUS: '2'>: RelatedNodeInfo(node_id='dc7b71e6-d431-466f-9e6d-d6416a8a0eb0', node_type='1', metadata={}, hash='5aceaa65495e4aec84b5d2034bc98a3b0dcd209ab6c29f23c1ae273525aa0b96')}, metadata_template='{key}: {value}', metadata_separator='\\n', text='Retrieved from https://en.wikipedia.org/w/index.php?title=%22Hello,_World!%22_program&oldid=1274895481', mimetype='text/plain', start_char_idx=1149, end_char_idx=1251, metadata_seperator='\\n', text_template='{metadata_str}\\n\\n{content}'), score=0.0), NodeWithScore(node=TextNode(id_='dc7b71e6-d431-466f-9e6d-d6416a8a0eb0', embedding=None, metadata={}, excluded_embed_metadata_keys=[], excluded_llm_metadata_keys=[], relationships={<NodeRelationship.SOURCE: '1'>: RelatedNodeInfo(node_id='b4eaee27-8ab9-43aa-9eb3-833145fb3b80', node_type='4', metadata={}, hash='7281de5e65e0e3f21640a18ddd2b4d8ebaa323e2f4c8ee0944d16d88f714d3b6'), <NodeRelationship.PREVIOUS: '2'>: RelatedNodeInfo(node_id='9a9a12eb-6acd-4be6-a9fa-3ff2013dfb4c', node_type='1', metadata={}, hash='dd59246a7eea58eab3f539ccf36db5ef9c2026206c0dd0d7ffd4ff38b291f79a'), <NodeRelationship.NEXT: '3'>: RelatedNodeInfo(node_id='63336793-a511-4546-a6f5-cbbdee9f1aed', node_type='1', metadata={}, hash='17d035803d75d0e18114e106a8da26412deaa5326652a138e21a171983fe12aa')}, metadata_template='{key}: {value}', metadata_separator='\\n', text='Retrieved 23 August 2014.', mimetype='text/plain', start_char_idx=1122, end_char_idx=1147, metadata_seperator='\\n', text_template='{metadata_str}\\n\\n{content}'), score=0.0), NodeWithScore(node=TextNode(id_='4a5fce15-95ac-4879-9cc9-e233686d26ec', embedding=None, metadata={}, excluded_embed_metadata_keys=[], excluded_llm_metadata_keys=[], relationships={<NodeRelationship.SOURCE: '1'>: RelatedNodeInfo(node_id='b4eaee27-8ab9-43aa-9eb3-833145fb3b80', node_type='4', metadata={}, hash='7281de5e65e0e3f21640a18ddd2b4d8ebaa323e2f4c8ee0944d16d88f714d3b6'), <NodeRelationship.PREVIOUS: '2'>: RelatedNodeInfo(node_id='e94ae692-ef69-4c03-a9dc-2be133ea8abd', node_type='1', metadata={}, hash='133890adeb5751af16b25aafc46442c5134fdd7c67201059a7c43761edea6302'), <NodeRelationship.NEXT: '3'>: RelatedNodeInfo(node_id='ea9e7255-1112-46ea-aeb3-aeffddc63f4b', node_type='1', metadata={}, hash='ec33d5af67c1f45e55be0d7c25aaf1e7c4cd9ad5442a6b936fa96da3f286032a')}, metadata_template='{key}: {value}', metadata_separator='\\n', text='- \"Unsung Heroes of IT: Part One: Brian Kernighan\".', mimetype='text/plain', start_char_idx=957, end_char_idx=1008, metadata_seperator='\\n', text_template='{metadata_str}\\n\\n{content}'), score=0.0), NodeWithScore(node=TextNode(id_='41a78715-6be6-472c-b087-77b9f606a598', embedding=None, metadata={}, excluded_embed_metadata_keys=[], excluded_llm_metadata_keys=[], relationships={<NodeRelationship.SOURCE: '1'>: RelatedNodeInfo(node_id='5a26bf52-9137-434e-9a39-c42c62ac00fd', node_type='4', metadata={}, hash='0e21741e5655b2140ca5424d788011fde501d9208075dbc9f3fbbe54b3e7d3dc'), <NodeRelationship.PREVIOUS: '2'>: RelatedNodeInfo(node_id='b1452d1e-b2f0-417c-948c-dbf71859a6b4', node_type='1', metadata={}, hash='da3b31ba797dbe383339b6c38060c118d5b5ee9df02cea39375730dcef134c3a'), <NodeRelationship.NEXT: '3'>: RelatedNodeInfo(node_id='5169b0a8-8c22-4b01-9767-dd8f51517729', node_type='1', metadata={}, hash='7f5e520fd1f480c7fc6a6e39a67447d4d64372b4352c6d41aa202d14f38eb4eb')}, metadata_template='{key}: {value}', metadata_separator='\\n', text='The example program from the book prints \"hello, world\", and was inherited from a 1974 Bell Laboratories internal memorandum by Brian Kernighan, Programming in C: A Tutorial*:3\\n\\nmain( ) {\\nprintf(\"hello, world\");\\n}\\n\\nIn the above example, the main( ) function defines where the \"Hello, World!\"', mimetype='text/plain', start_char_idx=897, end_char_idx=1188, metadata_seperator='\\n', text_template='{metadata_str}\\n\\n{content}'), score=0.8385149836540222)], metadata={'50e7c3ce-a0c0-48ca-9767-ddf41e899358': {}, '5f06cff0-f8f0-4d84-8a73-8fa02fce6b24': {}, 'c5a22166-29ca-45a3-a7a4-38220c4dc892': {}, 'b21d08eb-249a-4c2f-9680-ec8f2b1fc9f7': {}, '63336793-a511-4546-a6f5-cbbdee9f1aed': {}, 'dc7b71e6-d431-466f-9e6d-d6416a8a0eb0': {}, '4a5fce15-95ac-4879-9cc9-e233686d26ec': {}, '41a78715-6be6-472c-b087-77b9f606a598': {}})"
      ]
     },
     "execution_count": 15,
     "metadata": {},
     "output_type": "execute_result"
    }
   ],
   "source": [
    "res = query_engine.query(\"What does printf mean in C?\")\n",
    "res"
   ]
  },
  {
   "cell_type": "code",
   "execution_count": 16,
   "metadata": {},
   "outputs": [],
   "source": [
    "def rerank(query, nodes,\n",
    "           model=model_name,\n",
    "           top_k=5):\n",
    "    context = \"\\n\\n\".join([node.node.get_content() for node in nodes])\n",
    "    \n",
    "    cc = ContextCiter.from_pretrained(\n",
    "        model_name,\n",
    "        context=context,\n",
    "        query=query,\n",
    "        device=\"cuda\"\n",
    "    )\n",
    "\n",
    "    attributions = cc.get_attributions(as_dataframe=False, top_k=len(nodes))\n",
    "    segments = cc.sources\n",
    "\n",
    "    node_scores = {}\n",
    "    for node in nodes:\n",
    "        node_text = node.node.get_content()\n",
    "        cumulative_score = 0.0\n",
    "        # For each source segment and its associated attribution score,\n",
    "        # if the segment appears in the node's text, add its score.\n",
    "        for seg, score in zip(segments, attributions):\n",
    "            if seg.strip() and seg.strip() in node_text:\n",
    "                cumulative_score += score\n",
    "        node_scores[node.node.node_id] = cumulative_score\n",
    "\n",
    "    # Re-rank the nodes by descending cumulative score.\n",
    "    reranked_nodes = sorted(nodes, key=lambda x: node_scores.get(x.node.node_id, 0.0), reverse=True)\n",
    "    \n",
    "    return reranked_nodes, cc.response, node_scores"
   ]
  },
  {
   "cell_type": "code",
   "execution_count": 17,
   "metadata": {},
   "outputs": [],
   "source": [
    "def query_pdf(query):\n",
    "    global query_engine\n",
    "    if query_engine is None:\n",
    "        return \"Please upload a PDF first.\"\n",
    "\n",
    "    nodes = query_engine.retriever.retrieve(QueryBundle(query))\n",
    "    reranked_nodes, cc_response, node_scores = rerank(query, nodes)\n",
    "    \n",
    "    top_nodes = reranked_nodes[:5]  # select the top 5 nodes\n",
    "    final_context = \"\\n\\n\".join([node.node.get_content() for node in top_nodes])\n",
    "    \n",
    "    final_response = (\n",
    "        f\"{cc_response}\\n\\nTop Ranked Context:\\n{final_context}\\n\\nNode Scores:\\n{node_scores}\"\n",
    "    )\n",
    "    \n",
    "    return final_response"
   ]
  },
  {
   "cell_type": "code",
   "execution_count": null,
   "metadata": {},
   "outputs": [],
   "source": [
    "query_pdf(\"What is the purpose of the printf function in C?\")"
   ]
  },
  {
   "cell_type": "code",
   "execution_count": null,
   "metadata": {},
   "outputs": [],
   "source": []
  }
 ],
 "metadata": {
  "kernelspec": {
   "display_name": "nlp",
   "language": "python",
   "name": "python3"
  },
  "language_info": {
   "codemirror_mode": {
    "name": "ipython",
    "version": 3
   },
   "file_extension": ".py",
   "mimetype": "text/x-python",
   "name": "python",
   "nbconvert_exporter": "python",
   "pygments_lexer": "ipython3",
   "version": "3.12.9"
  }
 },
 "nbformat": 4,
 "nbformat_minor": 2
}
