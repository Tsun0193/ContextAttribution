{
 "cells": [
  {
   "cell_type": "code",
   "execution_count": 1,
   "id": "edd64a1f",
   "metadata": {},
   "outputs": [],
   "source": [
    "import matplotlib.pyplot as plt\n",
    "import numpy as np"
   ]
  },
  {
   "cell_type": "code",
   "execution_count": 2,
   "id": "154c4677",
   "metadata": {},
   "outputs": [],
   "source": [
    "k_vals = [1, 3, 5]\n",
    "contextcite_l_calls = {\n",
    "    \"ContextCite-L (256 calls)\": [1.760979, 3.263331, 4.562216],\n",
    "    \"ContextCite-L (128 calls)\": [1.484970, 3.161550, 3.791863],\n",
    "    \"ContextCite-L (64 calls)\": [1.285550, 2.569343, 3.228789],\n",
    "    \"ContextCite-L (32 calls)\": [1.262293, 2.312171, 3.016126]\n",
    "}\n",
    "contextcite_calls = {\n",
    "    \"ContextCite (256 calls)\": [0.510021, 0.754932, 0.831023],\n",
    "    \"ContextCite (128 calls)\": [0.500903, 0.741556, 0.819800],\n",
    "    \"ContextCite (64 calls)\":  [0.496182, 0.725651, 0.788392],\n",
    "    \"ContextCite (32 calls)\":  [0.490307, 0.676900, 0.719050]\n",
    "}\n",
    "# other_methods = {\n",
    "#     \"Average attention\": [0.705, 0.853, 0.867],\n",
    "#     \"Similarity\": [0.572, 0.735, 0.787],\n",
    "#     \"Gradient ℓ₁-norm\": [0.174, 0.407, 0.466],\n",
    "#     \"Leave-one-out\": [0.749, 0.845, 0.862]\n",
    "# }"
   ]
  },
  {
   "cell_type": "code",
   "execution_count": 3,
   "id": "6a3773e5",
   "metadata": {},
   "outputs": [],
   "source": [
    "# all_methods = {**contextcite_l_calls, **contextcite_calls, **other_methods}\n",
    "all_methods = {**contextcite_l_calls, **contextcite_calls}\n",
    "colors = {\n",
    "    \"ContextCite-L (256 calls)\": \"#1f77b4\",\n",
    "    \"ContextCite-L (128 calls)\": \"#1f77b4cc\",\n",
    "    \"ContextCite-L (64 calls)\": \"#1f77b499\",\n",
    "    \"ContextCite-L (32 calls)\": \"#1f77b466\",\n",
    "    \"ContextCite (256 calls)\": \"#2ca02c\",\n",
    "    \"ContextCite (128 calls)\": \"#2ca02ccc\",\n",
    "    \"ContextCite (64 calls)\": \"#2ca02c99\",\n",
    "    \"ContextCite (32 calls)\": \"#2ca02c66\",\n",
    "    \"Average attention\": \"#ff7f0e\",\n",
    "    \"Similarity\": \"#8c564b\",\n",
    "    \"Gradient ℓ₁-norm\": \"#d62728\",\n",
    "    \"Leave-one-out\": \"#9467bd\"\n",
    "}"
   ]
  },
  {
   "cell_type": "code",
   "execution_count": 4,
   "id": "62b2e44b",
   "metadata": {},
   "outputs": [],
   "source": [
    "x = np.arange(len(k_vals))\n",
    "bar_width = 0.09\n",
    "fig, axes = plt.subplots(nrows=3, figsize=(12, 12), sharex=True)\n",
    "\n",
    "handles = []\n",
    "labels = list(all_methods.keys())\n",
    "\n",
    "for i, k in enumerate(k_vals):\n",
    "    ax = axes[i]\n",
    "    values_at_k = [all_methods[label][i] for label in labels]\n",
    "    x = np.arange(len(labels))\n",
    "\n",
    "    bars = ax.bar(x, values_at_k, color=[colors[l] for l in labels])\n",
    "    \n",
    "    # ✅ Subplot titles added back\n",
    "    ax.set_title(f\"Top-$k$ = {k}\", fontsize=12)\n",
    "    \n",
    "    ax.set_ylabel(\"Log-prob drop\", fontsize=10)\n",
    "    ax.set_ylim(0, 5.0)\n",
    "    ax.grid(axis='y', linestyle='--', alpha=0.6)\n",
    "    ax.set_xticks(x)\n",
    "    ax.set_xticklabels([])  # Still hiding x-axis tick labels\n",
    "\n",
    "    # Collect legend handles once\n",
    "    if i == 0:\n",
    "        handles = bars\n",
    "\n",
    "axes[-1].set_xlabel(\"Attribution Method\", fontsize=11)\n",
    "\n",
    "# ❌ No main suptitle\n",
    "# fig.suptitle(\"LLaMA-3 8B on TyDiQA: Attribution Comparison by Top-$k$\", fontsize=14)\n",
    "\n",
    "# ✅ Add legend at bottom\n",
    "fig.legend(handles, labels, loc='lower center', ncol=2, fontsize=9, bbox_to_anchor=(0.5, -0.05))\n",
    "\n",
    "plt.tight_layout(rect=[0, 0.05, 1, 1])\n",
    "\n",
    "# Save\n",
    "output_path = \"results/plots/llama3_tydiqa_cc.png\"\n",
    "plt.savefig(output_path, dpi=300, bbox_inches='tight')\n",
    "plt.close()"
   ]
  }
 ],
 "metadata": {
  "kernelspec": {
   "display_name": "dd-chat",
   "language": "python",
   "name": "python3"
  },
  "language_info": {
   "codemirror_mode": {
    "name": "ipython",
    "version": 3
   },
   "file_extension": ".py",
   "mimetype": "text/x-python",
   "name": "python",
   "nbconvert_exporter": "python",
   "pygments_lexer": "ipython3",
   "version": "3.9.21"
  }
 },
 "nbformat": 4,
 "nbformat_minor": 5
}
