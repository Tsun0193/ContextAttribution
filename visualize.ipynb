{
 "cells": [
  {
   "cell_type": "code",
   "execution_count": 1,
   "id": "edd64a1f",
   "metadata": {},
   "outputs": [],
   "source": [
    "import matplotlib.pyplot as plt\n",
    "import numpy as np"
   ]
  },
  {
   "cell_type": "code",
   "execution_count": 18,
   "id": "154c4677",
   "metadata": {},
   "outputs": [],
   "source": [
    "k_vals = [1, 3, 5]\n",
    "contextcite_calls = {\n",
    "    \"ContextCite (256 calls)\": [0.732, 0.951, 0.986],\n",
    "    \"ContextCite (128 calls)\": [0.728, 0.942, 0.978],\n",
    "    \"ContextCite (64 calls)\":  [0.724, 0.928, 0.965],\n",
    "    \"ContextCite (32 calls)\":  [0.720, 0.901, 0.945]\n",
    "}\n",
    "other_methods = {\n",
    "    \"Average attention\": [0.705, 0.853, 0.867],\n",
    "    \"Similarity\": [0.572, 0.735, 0.787],\n",
    "    \"Gradient ℓ₁-norm\": [0.174, 0.407, 0.466],\n",
    "    \"Leave-one-out\": [0.749, 0.845, 0.862]\n",
    "}"
   ]
  },
  {
   "cell_type": "code",
   "execution_count": 19,
   "id": "62b2e44b",
   "metadata": {},
   "outputs": [],
   "source": [
    "bar_width = 0.09\n",
    "x = np.arange(len(k_vals))\n",
    "\n",
    "# Plotting\n",
    "plt.figure(figsize=(10, 5))\n",
    "\n",
    "colors = {\n",
    "    \"ContextCite (256 calls)\": \"#1f77b4\", \"ContextCite (128 calls)\": \"#1f77b4cc\", \"ContextCite (64 calls)\": \"#1f77b499\", \"ContextCite (32 calls)\": \"#1f77b466\",\n",
    "    \"Average attention\": \"#ff7f0e\", \"Similarity\": \"#2ca02c\", \"Gradient ℓ₁-norm\": \"#d62728\", \"Leave-one-out\": \"#9467bd\"\n",
    "}\n",
    "\n",
    "for idx, (label, scores) in enumerate({**contextcite_calls, **other_methods}.items()):\n",
    "    offset = (idx - 3.5) * bar_width\n",
    "    plt.bar(x + offset, scores, width=bar_width, label=label, color=colors[label])\n",
    "\n",
    "# Axes and labels\n",
    "plt.xticks(x, [r'$k=1$', r'$k=3$', r'$k=5$'])\n",
    "plt.ylabel('Log-prob drop\\n(more accurate →)', fontsize=12)\n",
    "plt.title('LLaMA-3 8B on TyDiQA (Long-context QA)', fontsize=14)\n",
    "plt.ylim(0, 1)\n",
    "plt.grid(axis='y', linestyle='--', alpha=0.6)\n",
    "\n",
    "# Move legend to bottom\n",
    "plt.legend(loc='upper center', bbox_to_anchor=(0.5, -0.2), ncol=4)\n",
    "\n",
    "# Save the figure\n",
    "output_path = \"results/llama3_tydiqa.png\"\n",
    "plt.tight_layout()\n",
    "plt.savefig(output_path, dpi=300, bbox_inches='tight')\n",
    "plt.close()"
   ]
  },
  {
   "cell_type": "code",
   "execution_count": null,
   "id": "9b0ac6bf",
   "metadata": {},
   "outputs": [],
   "source": []
  }
 ],
 "metadata": {
  "kernelspec": {
   "display_name": "dd-chat",
   "language": "python",
   "name": "python3"
  },
  "language_info": {
   "codemirror_mode": {
    "name": "ipython",
    "version": 3
   },
   "file_extension": ".py",
   "mimetype": "text/x-python",
   "name": "python",
   "nbconvert_exporter": "python",
   "pygments_lexer": "ipython3",
   "version": "3.9.21"
  }
 },
 "nbformat": 4,
 "nbformat_minor": 5
}
